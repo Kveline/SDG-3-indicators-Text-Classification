{
  "nbformat": 4,
  "nbformat_minor": 0,
  "metadata": {
    "colab": {
      "provenance": [],
      "gpuType": "T4"
    },
    "kernelspec": {
      "name": "python3",
      "display_name": "Python 3"
    },
    "language_info": {
      "name": "python"
    },
    "accelerator": "GPU"
  },
  "cells": [
    {
      "cell_type": "markdown",
      "source": [
        "## Get the data"
      ],
      "metadata": {
        "id": "oKnwUpngmKej"
      }
    },
    {
      "cell_type": "code",
      "execution_count": null,
      "metadata": {
        "colab": {
          "base_uri": "https://localhost:8080/",
          "height": 568
        },
        "id": "6daaNoVUmEMD",
        "outputId": "3be3e7ef-15f5-420e-9df2-bc2d21b8fc9f"
      },
      "outputs": [
        {
          "output_type": "execute_result",
          "data": {
            "text/plain": [
              "   Unique ID          Type                                               Text  \\\n",
              "0    12555.0         Grant  Centers of Biomedical Research Excellence (COB...   \n",
              "1    14108.0         Grant  Research on Regenerative Medicine Introduction...   \n",
              "2    23168.0  Organization  Catholic Health Association of India (CHAI): T...   \n",
              "3   219512.0      Contract       Quality Improvement Initiatives for Diabetes   \n",
              "4   274093.0        Tender  Provision of Thalassemia Drugs and Disposables...   \n",
              "\n",
              "   3.1.1  3.1.2  3.2.1  3.2.2  3.3.1  3.3.2  3.3.3  ...  3.8.2  3.9.1  3.9.2  \\\n",
              "0      0      0      0      0      0      0      0  ...      0      0      0   \n",
              "1      0      0      0      0      0      0      0  ...      0      0      0   \n",
              "2      0      0      0      0      0      0      0  ...      1      0      0   \n",
              "3      0      0      0      0      0      0      0  ...      0      0      0   \n",
              "4      0      0      0      0      0      0      0  ...      0      0      0   \n",
              "\n",
              "   3.9.3  3.a.1  3.b.1  3.b.2  3.b.3  3.c.1  3.d.1  \n",
              "0      0      0      0      1      0      1      0  \n",
              "1      0      0      0      1      0      0      0  \n",
              "2      0      0      0      0      1      0      1  \n",
              "3      0      0      0      0      0      0      0  \n",
              "4      0      0      0      0      0      0      0  \n",
              "\n",
              "[5 rows x 30 columns]"
            ],
            "text/html": [
              "\n",
              "  <div id=\"df-698474ce-34db-4d0c-91d7-91a6854dda50\" class=\"colab-df-container\">\n",
              "    <div>\n",
              "<style scoped>\n",
              "    .dataframe tbody tr th:only-of-type {\n",
              "        vertical-align: middle;\n",
              "    }\n",
              "\n",
              "    .dataframe tbody tr th {\n",
              "        vertical-align: top;\n",
              "    }\n",
              "\n",
              "    .dataframe thead th {\n",
              "        text-align: right;\n",
              "    }\n",
              "</style>\n",
              "<table border=\"1\" class=\"dataframe\">\n",
              "  <thead>\n",
              "    <tr style=\"text-align: right;\">\n",
              "      <th></th>\n",
              "      <th>Unique ID</th>\n",
              "      <th>Type</th>\n",
              "      <th>Text</th>\n",
              "      <th>3.1.1</th>\n",
              "      <th>3.1.2</th>\n",
              "      <th>3.2.1</th>\n",
              "      <th>3.2.2</th>\n",
              "      <th>3.3.1</th>\n",
              "      <th>3.3.2</th>\n",
              "      <th>3.3.3</th>\n",
              "      <th>...</th>\n",
              "      <th>3.8.2</th>\n",
              "      <th>3.9.1</th>\n",
              "      <th>3.9.2</th>\n",
              "      <th>3.9.3</th>\n",
              "      <th>3.a.1</th>\n",
              "      <th>3.b.1</th>\n",
              "      <th>3.b.2</th>\n",
              "      <th>3.b.3</th>\n",
              "      <th>3.c.1</th>\n",
              "      <th>3.d.1</th>\n",
              "    </tr>\n",
              "  </thead>\n",
              "  <tbody>\n",
              "    <tr>\n",
              "      <th>0</th>\n",
              "      <td>12555.0</td>\n",
              "      <td>Grant</td>\n",
              "      <td>Centers of Biomedical Research Excellence (COB...</td>\n",
              "      <td>0</td>\n",
              "      <td>0</td>\n",
              "      <td>0</td>\n",
              "      <td>0</td>\n",
              "      <td>0</td>\n",
              "      <td>0</td>\n",
              "      <td>0</td>\n",
              "      <td>...</td>\n",
              "      <td>0</td>\n",
              "      <td>0</td>\n",
              "      <td>0</td>\n",
              "      <td>0</td>\n",
              "      <td>0</td>\n",
              "      <td>0</td>\n",
              "      <td>1</td>\n",
              "      <td>0</td>\n",
              "      <td>1</td>\n",
              "      <td>0</td>\n",
              "    </tr>\n",
              "    <tr>\n",
              "      <th>1</th>\n",
              "      <td>14108.0</td>\n",
              "      <td>Grant</td>\n",
              "      <td>Research on Regenerative Medicine Introduction...</td>\n",
              "      <td>0</td>\n",
              "      <td>0</td>\n",
              "      <td>0</td>\n",
              "      <td>0</td>\n",
              "      <td>0</td>\n",
              "      <td>0</td>\n",
              "      <td>0</td>\n",
              "      <td>...</td>\n",
              "      <td>0</td>\n",
              "      <td>0</td>\n",
              "      <td>0</td>\n",
              "      <td>0</td>\n",
              "      <td>0</td>\n",
              "      <td>0</td>\n",
              "      <td>1</td>\n",
              "      <td>0</td>\n",
              "      <td>0</td>\n",
              "      <td>0</td>\n",
              "    </tr>\n",
              "    <tr>\n",
              "      <th>2</th>\n",
              "      <td>23168.0</td>\n",
              "      <td>Organization</td>\n",
              "      <td>Catholic Health Association of India (CHAI): T...</td>\n",
              "      <td>0</td>\n",
              "      <td>0</td>\n",
              "      <td>0</td>\n",
              "      <td>0</td>\n",
              "      <td>0</td>\n",
              "      <td>0</td>\n",
              "      <td>0</td>\n",
              "      <td>...</td>\n",
              "      <td>1</td>\n",
              "      <td>0</td>\n",
              "      <td>0</td>\n",
              "      <td>0</td>\n",
              "      <td>0</td>\n",
              "      <td>0</td>\n",
              "      <td>0</td>\n",
              "      <td>1</td>\n",
              "      <td>0</td>\n",
              "      <td>1</td>\n",
              "    </tr>\n",
              "    <tr>\n",
              "      <th>3</th>\n",
              "      <td>219512.0</td>\n",
              "      <td>Contract</td>\n",
              "      <td>Quality Improvement Initiatives for Diabetes</td>\n",
              "      <td>0</td>\n",
              "      <td>0</td>\n",
              "      <td>0</td>\n",
              "      <td>0</td>\n",
              "      <td>0</td>\n",
              "      <td>0</td>\n",
              "      <td>0</td>\n",
              "      <td>...</td>\n",
              "      <td>0</td>\n",
              "      <td>0</td>\n",
              "      <td>0</td>\n",
              "      <td>0</td>\n",
              "      <td>0</td>\n",
              "      <td>0</td>\n",
              "      <td>0</td>\n",
              "      <td>0</td>\n",
              "      <td>0</td>\n",
              "      <td>0</td>\n",
              "    </tr>\n",
              "    <tr>\n",
              "      <th>4</th>\n",
              "      <td>274093.0</td>\n",
              "      <td>Tender</td>\n",
              "      <td>Provision of Thalassemia Drugs and Disposables...</td>\n",
              "      <td>0</td>\n",
              "      <td>0</td>\n",
              "      <td>0</td>\n",
              "      <td>0</td>\n",
              "      <td>0</td>\n",
              "      <td>0</td>\n",
              "      <td>0</td>\n",
              "      <td>...</td>\n",
              "      <td>0</td>\n",
              "      <td>0</td>\n",
              "      <td>0</td>\n",
              "      <td>0</td>\n",
              "      <td>0</td>\n",
              "      <td>0</td>\n",
              "      <td>0</td>\n",
              "      <td>0</td>\n",
              "      <td>0</td>\n",
              "      <td>0</td>\n",
              "    </tr>\n",
              "  </tbody>\n",
              "</table>\n",
              "<p>5 rows × 30 columns</p>\n",
              "</div>\n",
              "    <div class=\"colab-df-buttons\">\n",
              "\n",
              "  <div class=\"colab-df-container\">\n",
              "    <button class=\"colab-df-convert\" onclick=\"convertToInteractive('df-698474ce-34db-4d0c-91d7-91a6854dda50')\"\n",
              "            title=\"Convert this dataframe to an interactive table.\"\n",
              "            style=\"display:none;\">\n",
              "\n",
              "  <svg xmlns=\"http://www.w3.org/2000/svg\" height=\"24px\" viewBox=\"0 -960 960 960\">\n",
              "    <path d=\"M120-120v-720h720v720H120Zm60-500h600v-160H180v160Zm220 220h160v-160H400v160Zm0 220h160v-160H400v160ZM180-400h160v-160H180v160Zm440 0h160v-160H620v160ZM180-180h160v-160H180v160Zm440 0h160v-160H620v160Z\"/>\n",
              "  </svg>\n",
              "    </button>\n",
              "\n",
              "  <style>\n",
              "    .colab-df-container {\n",
              "      display:flex;\n",
              "      gap: 12px;\n",
              "    }\n",
              "\n",
              "    .colab-df-convert {\n",
              "      background-color: #E8F0FE;\n",
              "      border: none;\n",
              "      border-radius: 50%;\n",
              "      cursor: pointer;\n",
              "      display: none;\n",
              "      fill: #1967D2;\n",
              "      height: 32px;\n",
              "      padding: 0 0 0 0;\n",
              "      width: 32px;\n",
              "    }\n",
              "\n",
              "    .colab-df-convert:hover {\n",
              "      background-color: #E2EBFA;\n",
              "      box-shadow: 0px 1px 2px rgba(60, 64, 67, 0.3), 0px 1px 3px 1px rgba(60, 64, 67, 0.15);\n",
              "      fill: #174EA6;\n",
              "    }\n",
              "\n",
              "    .colab-df-buttons div {\n",
              "      margin-bottom: 4px;\n",
              "    }\n",
              "\n",
              "    [theme=dark] .colab-df-convert {\n",
              "      background-color: #3B4455;\n",
              "      fill: #D2E3FC;\n",
              "    }\n",
              "\n",
              "    [theme=dark] .colab-df-convert:hover {\n",
              "      background-color: #434B5C;\n",
              "      box-shadow: 0px 1px 3px 1px rgba(0, 0, 0, 0.15);\n",
              "      filter: drop-shadow(0px 1px 2px rgba(0, 0, 0, 0.3));\n",
              "      fill: #FFFFFF;\n",
              "    }\n",
              "  </style>\n",
              "\n",
              "    <script>\n",
              "      const buttonEl =\n",
              "        document.querySelector('#df-698474ce-34db-4d0c-91d7-91a6854dda50 button.colab-df-convert');\n",
              "      buttonEl.style.display =\n",
              "        google.colab.kernel.accessAllowed ? 'block' : 'none';\n",
              "\n",
              "      async function convertToInteractive(key) {\n",
              "        const element = document.querySelector('#df-698474ce-34db-4d0c-91d7-91a6854dda50');\n",
              "        const dataTable =\n",
              "          await google.colab.kernel.invokeFunction('convertToInteractive',\n",
              "                                                    [key], {});\n",
              "        if (!dataTable) return;\n",
              "\n",
              "        const docLinkHtml = 'Like what you see? Visit the ' +\n",
              "          '<a target=\"_blank\" href=https://colab.research.google.com/notebooks/data_table.ipynb>data table notebook</a>'\n",
              "          + ' to learn more about interactive tables.';\n",
              "        element.innerHTML = '';\n",
              "        dataTable['output_type'] = 'display_data';\n",
              "        await google.colab.output.renderOutput(dataTable, element);\n",
              "        const docLink = document.createElement('div');\n",
              "        docLink.innerHTML = docLinkHtml;\n",
              "        element.appendChild(docLink);\n",
              "      }\n",
              "    </script>\n",
              "  </div>\n",
              "\n",
              "\n",
              "<div id=\"df-69d5e2d9-2cab-4f70-8eca-188588796d8f\">\n",
              "  <button class=\"colab-df-quickchart\" onclick=\"quickchart('df-69d5e2d9-2cab-4f70-8eca-188588796d8f')\"\n",
              "            title=\"Suggest charts.\"\n",
              "            style=\"display:none;\">\n",
              "\n",
              "<svg xmlns=\"http://www.w3.org/2000/svg\" height=\"24px\"viewBox=\"0 0 24 24\"\n",
              "     width=\"24px\">\n",
              "    <g>\n",
              "        <path d=\"M19 3H5c-1.1 0-2 .9-2 2v14c0 1.1.9 2 2 2h14c1.1 0 2-.9 2-2V5c0-1.1-.9-2-2-2zM9 17H7v-7h2v7zm4 0h-2V7h2v10zm4 0h-2v-4h2v4z\"/>\n",
              "    </g>\n",
              "</svg>\n",
              "  </button>\n",
              "\n",
              "<style>\n",
              "  .colab-df-quickchart {\n",
              "      --bg-color: #E8F0FE;\n",
              "      --fill-color: #1967D2;\n",
              "      --hover-bg-color: #E2EBFA;\n",
              "      --hover-fill-color: #174EA6;\n",
              "      --disabled-fill-color: #AAA;\n",
              "      --disabled-bg-color: #DDD;\n",
              "  }\n",
              "\n",
              "  [theme=dark] .colab-df-quickchart {\n",
              "      --bg-color: #3B4455;\n",
              "      --fill-color: #D2E3FC;\n",
              "      --hover-bg-color: #434B5C;\n",
              "      --hover-fill-color: #FFFFFF;\n",
              "      --disabled-bg-color: #3B4455;\n",
              "      --disabled-fill-color: #666;\n",
              "  }\n",
              "\n",
              "  .colab-df-quickchart {\n",
              "    background-color: var(--bg-color);\n",
              "    border: none;\n",
              "    border-radius: 50%;\n",
              "    cursor: pointer;\n",
              "    display: none;\n",
              "    fill: var(--fill-color);\n",
              "    height: 32px;\n",
              "    padding: 0;\n",
              "    width: 32px;\n",
              "  }\n",
              "\n",
              "  .colab-df-quickchart:hover {\n",
              "    background-color: var(--hover-bg-color);\n",
              "    box-shadow: 0 1px 2px rgba(60, 64, 67, 0.3), 0 1px 3px 1px rgba(60, 64, 67, 0.15);\n",
              "    fill: var(--button-hover-fill-color);\n",
              "  }\n",
              "\n",
              "  .colab-df-quickchart-complete:disabled,\n",
              "  .colab-df-quickchart-complete:disabled:hover {\n",
              "    background-color: var(--disabled-bg-color);\n",
              "    fill: var(--disabled-fill-color);\n",
              "    box-shadow: none;\n",
              "  }\n",
              "\n",
              "  .colab-df-spinner {\n",
              "    border: 2px solid var(--fill-color);\n",
              "    border-color: transparent;\n",
              "    border-bottom-color: var(--fill-color);\n",
              "    animation:\n",
              "      spin 1s steps(1) infinite;\n",
              "  }\n",
              "\n",
              "  @keyframes spin {\n",
              "    0% {\n",
              "      border-color: transparent;\n",
              "      border-bottom-color: var(--fill-color);\n",
              "      border-left-color: var(--fill-color);\n",
              "    }\n",
              "    20% {\n",
              "      border-color: transparent;\n",
              "      border-left-color: var(--fill-color);\n",
              "      border-top-color: var(--fill-color);\n",
              "    }\n",
              "    30% {\n",
              "      border-color: transparent;\n",
              "      border-left-color: var(--fill-color);\n",
              "      border-top-color: var(--fill-color);\n",
              "      border-right-color: var(--fill-color);\n",
              "    }\n",
              "    40% {\n",
              "      border-color: transparent;\n",
              "      border-right-color: var(--fill-color);\n",
              "      border-top-color: var(--fill-color);\n",
              "    }\n",
              "    60% {\n",
              "      border-color: transparent;\n",
              "      border-right-color: var(--fill-color);\n",
              "    }\n",
              "    80% {\n",
              "      border-color: transparent;\n",
              "      border-right-color: var(--fill-color);\n",
              "      border-bottom-color: var(--fill-color);\n",
              "    }\n",
              "    90% {\n",
              "      border-color: transparent;\n",
              "      border-bottom-color: var(--fill-color);\n",
              "    }\n",
              "  }\n",
              "</style>\n",
              "\n",
              "  <script>\n",
              "    async function quickchart(key) {\n",
              "      const quickchartButtonEl =\n",
              "        document.querySelector('#' + key + ' button');\n",
              "      quickchartButtonEl.disabled = true;  // To prevent multiple clicks.\n",
              "      quickchartButtonEl.classList.add('colab-df-spinner');\n",
              "      try {\n",
              "        const charts = await google.colab.kernel.invokeFunction(\n",
              "            'suggestCharts', [key], {});\n",
              "      } catch (error) {\n",
              "        console.error('Error during call to suggestCharts:', error);\n",
              "      }\n",
              "      quickchartButtonEl.classList.remove('colab-df-spinner');\n",
              "      quickchartButtonEl.classList.add('colab-df-quickchart-complete');\n",
              "    }\n",
              "    (() => {\n",
              "      let quickchartButtonEl =\n",
              "        document.querySelector('#df-69d5e2d9-2cab-4f70-8eca-188588796d8f button');\n",
              "      quickchartButtonEl.style.display =\n",
              "        google.colab.kernel.accessAllowed ? 'block' : 'none';\n",
              "    })();\n",
              "  </script>\n",
              "</div>\n",
              "    </div>\n",
              "  </div>\n"
            ]
          },
          "metadata": {},
          "execution_count": 1
        }
      ],
      "source": [
        "import pandas as pd\n",
        "\n",
        "data = pd.read_csv(\"/content/train_clean.csv\")\n",
        "data.head()"
      ]
    },
    {
      "cell_type": "markdown",
      "source": [
        "## Label Distribution"
      ],
      "metadata": {
        "id": "J7gZOc09m9a9"
      }
    },
    {
      "cell_type": "code",
      "source": [
        "import matplotlib.pyplot as plt\n",
        "\n",
        "text_labels = data.iloc[:, 3:len(data.columns)]\n",
        "labels_distribution = text_labels.sum()\n",
        "\n",
        "plt.figure(figsize = (10, 7))\n",
        "labels_distribution.plot.bar()"
      ],
      "metadata": {
        "colab": {
          "base_uri": "https://localhost:8080/",
          "height": 638
        },
        "id": "KrQxvoTHmxWi",
        "outputId": "9fd91584-c34e-4b31-93e4-0b4c9dd4dd32"
      },
      "execution_count": null,
      "outputs": [
        {
          "output_type": "execute_result",
          "data": {
            "text/plain": [
              "<Axes: >"
            ]
          },
          "metadata": {},
          "execution_count": 2
        },
        {
          "output_type": "display_data",
          "data": {
            "text/plain": [
              "<Figure size 1000x700 with 1 Axes>"
            ],
            "image/png": "[encoded data removed]"
          },
          "metadata": {}
        }
      ]
    },
    {
      "cell_type": "markdown",
      "source": [
        "## Number of labels for each text"
      ],
      "metadata": {
        "id": "Qr1l_hGfnxpi"
      }
    },
    {
      "cell_type": "code",
      "source": [
        "import numpy as np\n",
        "\n",
        "y = data.iloc[:, 3:len(data.columns)].to_numpy()\n",
        "count_labels = [np.count_nonzero(y[i] == 1) for i in range(len(y))]"
      ],
      "metadata": {
        "id": "9-c5pM8Jn0-B"
      },
      "execution_count": null,
      "outputs": []
    },
    {
      "cell_type": "code",
      "source": [
        "count_labels[:10]"
      ],
      "metadata": {
        "colab": {
          "base_uri": "https://localhost:8080/"
        },
        "id": "jQNk32K5oHvv",
        "outputId": "cd0db508-0239-422a-e745-7cc925208101"
      },
      "execution_count": null,
      "outputs": [
        {
          "output_type": "execute_result",
          "data": {
            "text/plain": [
              "[2, 1, 4, 1, 2, 2, 3, 2, 1, 2]"
            ]
          },
          "metadata": {},
          "execution_count": 4
        }
      ]
    },
    {
      "cell_type": "code",
      "source": [
        "data[\"total_labels\"] = count_labels\n",
        "data[\"total_labels\"].value_counts().plot(kind = \"bar\")"
      ],
      "metadata": {
        "colab": {
          "base_uri": "https://localhost:8080/",
          "height": 451
        },
        "id": "Gy3pok9LoKrH",
        "outputId": "3f2ab1eb-754f-4a6a-8a08-18ff5360ecd5"
      },
      "execution_count": null,
      "outputs": [
        {
          "output_type": "execute_result",
          "data": {
            "text/plain": [
              "<Axes: >"
            ]
          },
          "metadata": {},
          "execution_count": 5
        },
        {
          "output_type": "display_data",
          "data": {
            "text/plain": [
              "<Figure size 640x480 with 1 Axes>"
            ],
            "image/png": "[encoded data removed]"
          },
          "metadata": {}
        }
      ]
    },
    {
      "cell_type": "code",
      "source": [
        "# total words in each text\n",
        "data[\"total_words\"] = data[\"Text\"].apply(lambda n: len(n.split()))\n",
        "data[\"total_words\"].head(10)"
      ],
      "metadata": {
        "colab": {
          "base_uri": "https://localhost:8080/"
        },
        "id": "Bd7HazzCoc00",
        "outputId": "0a486c83-fe95-4a92-e81a-e30016a5e574"
      },
      "execution_count": null,
      "outputs": [
        {
          "output_type": "execute_result",
          "data": {
            "text/plain": [
              "0    398\n",
              "1    305\n",
              "2    304\n",
              "3      5\n",
              "4    514\n",
              "5    470\n",
              "6    307\n",
              "7     12\n",
              "8    217\n",
              "9    381\n",
              "Name: total_words, dtype: int64"
            ]
          },
          "metadata": {},
          "execution_count": 6
        }
      ]
    },
    {
      "cell_type": "code",
      "source": [
        "# get the max of total words\n",
        "data[\"total_words\"].max()"
      ],
      "metadata": {
        "colab": {
          "base_uri": "https://localhost:8080/"
        },
        "id": "E20DCxRzosNG",
        "outputId": "a1b9591f-ae12-43ad-a431-aa39b69feb7c"
      },
      "execution_count": null,
      "outputs": [
        {
          "output_type": "execute_result",
          "data": {
            "text/plain": [
              "3753"
            ]
          },
          "metadata": {},
          "execution_count": 7
        }
      ]
    },
    {
      "cell_type": "markdown",
      "source": [
        "## Data preprocessing"
      ],
      "metadata": {
        "id": "tMzlg_lbo_WZ"
      }
    },
    {
      "cell_type": "code",
      "source": [
        "from sklearn.model_selection import train_test_split\n",
        "\n",
        "train_df, test_df = train_test_split(data, test_size = 0.2)"
      ],
      "metadata": {
        "id": "83DiLLrNo4XE"
      },
      "execution_count": null,
      "outputs": []
    },
    {
      "cell_type": "code",
      "source": [
        "len(train_df), len(test_df)"
      ],
      "metadata": {
        "colab": {
          "base_uri": "https://localhost:8080/"
        },
        "id": "ocBUh_S2qcfd",
        "outputId": "6ab4de44-9576-492f-944c-d452553f38d7"
      },
      "execution_count": null,
      "outputs": [
        {
          "output_type": "execute_result",
          "data": {
            "text/plain": [
              "(2396, 599)"
            ]
          },
          "metadata": {},
          "execution_count": 9
        }
      ]
    },
    {
      "cell_type": "code",
      "source": [
        "import random\n",
        "random.choice(train_df[\"Text\"])"
      ],
      "metadata": {
        "colab": {
          "base_uri": "https://localhost:8080/",
          "height": 36
        },
        "id": "sUrgiMRcqoju",
        "outputId": "fc122c1e-077d-4621-8495-87fa6f930f89"
      },
      "execution_count": null,
      "outputs": [
        {
          "output_type": "execute_result",
          "data": {
            "text/plain": [
              "'Affordable Antiretroviral Drugs for Middle-income Countries'"
            ],
            "application/vnd.google.colaboratory.intrinsic+json": {
              "type": "string"
            }
          },
          "metadata": {},
          "execution_count": 10
        }
      ]
    },
    {
      "cell_type": "code",
      "source": [
        "random.choice(text_labels.to_numpy())"
      ],
      "metadata": {
        "colab": {
          "base_uri": "https://localhost:8080/"
        },
        "id": "wxlheOWwqv6D",
        "outputId": "5c51cf91-e8f6-4c5e-f21d-ff057548ceeb"
      },
      "execution_count": null,
      "outputs": [
        {
          "output_type": "execute_result",
          "data": {
            "text/plain": [
              "array([0, 0, 0, 0, 1, 0, 0, 0, 0, 0, 0, 0, 0, 0, 0, 0, 0, 0, 0, 0, 0, 0,\n",
              "       0, 0, 0, 0, 0])"
            ]
          },
          "metadata": {},
          "execution_count": 11
        }
      ]
    },
    {
      "cell_type": "markdown",
      "source": [
        "## Converting Text into Numbers"
      ],
      "metadata": {
        "id": "BoaxjYLqq2ks"
      }
    },
    {
      "cell_type": "code",
      "source": [
        "# How long is each sentence on average\n",
        "sent_lens = [len(sentence.split()) for sentence in train_df[\"Text\"]]\n",
        "avg_sent_lens = np.mean(sent_lens)\n",
        "avg_sent_lens"
      ],
      "metadata": {
        "colab": {
          "base_uri": "https://localhost:8080/"
        },
        "id": "gWym1QMeq9CK",
        "outputId": "ac27cc16-2ea9-40ed-a587-dd3079f1edbe"
      },
      "execution_count": null,
      "outputs": [
        {
          "output_type": "execute_result",
          "data": {
            "text/plain": [
              "458.6193656093489"
            ]
          },
          "metadata": {},
          "execution_count": 12
        }
      ]
    },
    {
      "cell_type": "code",
      "source": [
        "# the distribution of sent_lens\n",
        "import matplotlib.pyplot as plt\n",
        "plt.hist(sent_lens, bins = 20)"
      ],
      "metadata": {
        "colab": {
          "base_uri": "https://localhost:8080/",
          "height": 593
        },
        "id": "WFeoMdPRrdkt",
        "outputId": "4edd440d-67f2-49bc-dbf1-cec5c86ea2cb"
      },
      "execution_count": null,
      "outputs": [
        {
          "output_type": "execute_result",
          "data": {
            "text/plain": [
              "(array([1161.,  369.,  232.,  136.,  104.,   66.,   74.,   63.,   47.,\n",
              "          41.,   21.,   23.,   17.,   14.,    9.,    5.,    4.,    5.,\n",
              "           3.,    2.]),\n",
              " array([2.00000e+00, 1.89550e+02, 3.77100e+02, 5.64650e+02, 7.52200e+02,\n",
              "        9.39750e+02, 1.12730e+03, 1.31485e+03, 1.50240e+03, 1.68995e+03,\n",
              "        1.87750e+03, 2.06505e+03, 2.25260e+03, 2.44015e+03, 2.62770e+03,\n",
              "        2.81525e+03, 3.00280e+03, 3.19035e+03, 3.37790e+03, 3.56545e+03,\n",
              "        3.75300e+03]),\n",
              " <BarContainer object of 20 artists>)"
            ]
          },
          "metadata": {},
          "execution_count": 13
        },
        {
          "output_type": "display_data",
          "data": {
            "text/plain": [
              "<Figure size 640x480 with 1 Axes>"
            ],
            "image/png": "[encoded data removed]"
          },
          "metadata": {}
        }
      ]
    },
    {
      "cell_type": "code",
      "source": [
        "# How long of a sentence length covers 95% of examples\n",
        "output_seq_len = int(np.percentile(sent_lens, 95))\n",
        "output_seq_len"
      ],
      "metadata": {
        "colab": {
          "base_uri": "https://localhost:8080/"
        },
        "id": "SFteETnXrv1U",
        "outputId": "42325389-7c85-4420-e698-9192cabc2751"
      },
      "execution_count": null,
      "outputs": [
        {
          "output_type": "execute_result",
          "data": {
            "text/plain": [
              "1787"
            ]
          },
          "metadata": {},
          "execution_count": 14
        }
      ]
    },
    {
      "cell_type": "code",
      "source": [
        "# max length sentence in traning set\n",
        "max(sent_lens)"
      ],
      "metadata": {
        "colab": {
          "base_uri": "https://localhost:8080/"
        },
        "id": "XGP6BzTdsCME",
        "outputId": "b58d01ec-230d-4741-f1ec-ab8d590ac4b8"
      },
      "execution_count": null,
      "outputs": [
        {
          "output_type": "execute_result",
          "data": {
            "text/plain": [
              "3753"
            ]
          },
          "metadata": {},
          "execution_count": 15
        }
      ]
    },
    {
      "cell_type": "markdown",
      "source": [
        "### Text vectorization (Tokenization)"
      ],
      "metadata": {
        "id": "l_k8Fe-OrH72"
      }
    },
    {
      "cell_type": "code",
      "source": [
        "import tensorflow as tf\n",
        "from tensorflow.keras.layers.experimental.preprocessing import TextVectorization\n",
        "\n",
        "# Setup text vectorization variables (again)\n",
        "max_vocab_length = 68000 # how many words in ur vocabulary"
      ],
      "metadata": {
        "id": "yZYTDEm3sLux"
      },
      "execution_count": null,
      "outputs": []
    },
    {
      "cell_type": "code",
      "source": [
        "text_vectorizer = TextVectorization(max_tokens = max_vocab_length,\n",
        "                                    output_sequence_length = output_seq_len)"
      ],
      "metadata": {
        "id": "fn3xmzNXsd2m"
      },
      "execution_count": null,
      "outputs": []
    },
    {
      "cell_type": "code",
      "source": [
        "# fit the text vector to the training data\n",
        "text_vectorizer.adapt(train_df[\"Text\"])"
      ],
      "metadata": {
        "id": "xZHPA9X7sswe"
      },
      "execution_count": null,
      "outputs": []
    },
    {
      "cell_type": "code",
      "source": [
        "# test our text vectorizer\n",
        "target_sentence = random.choice(train_df[\"Text\"])\n",
        "\n",
        "print(f\"Text:\\n{target_sentence}\")\n",
        "print(f\"\\nLength of Text:\\n{len(target_sentence.split())}\")\n",
        "print(f\"\\nVectorized Text:\\n{text_vectorizer([target_sentence])}\")"
      ],
      "metadata": {
        "colab": {
          "base_uri": "https://localhost:8080/"
        },
        "id": "MBblHsWOs23y",
        "outputId": "8432de92-a343-4896-e16f-9ab485139cff"
      },
      "execution_count": null,
      "outputs": [
        {
          "output_type": "stream",
          "name": "stdout",
          "text": [
            "Text:\n",
            "Support for Integrated, Collaborative Research: Purpose    The National Heart, Lung, and Blood Institute (NHLBI) Program Project Grant (P01) supports research related to fundamental processes and diseases of the heart, blood and lymphatic vessels, lungs, and blood, including transfusion medicine, blood resources, and sleep disorders and other programs including implementation science, health disparities, and translation research that address the mission of the Institute.  This FOA requires a minimum of three interrelated research projects that investigate a complex biomedical theme or research question. The projects may be supported by core units, if justified, to facilitate economy of effort, space, and equipment. The NHLBI provides support for Program Project Grants (PPGs) in the belief that collaborative research efforts can accelerate the acquisition of knowledge more effectively than a simple aggregate of research projects that have no interaction or thematic integration.    NHLBI is particularly interested in encouraging new scientific directions in PPGs. Use of the P01 mechanism is viewed as an opportunity to attract and include scientists who traditionally have not been supported by the NHLBI. Further, the PPG environment presents an opportunity for emerging scientific leaders to gain insight into how to lead a successful scientific program, and applicants will have the opportunity to include a project led by an Early Stage Investigator (ESI). All projects in the Program must be interrelated and have objectives that address a central theme within the scientific mandate of the NHLBI.    Research Objectives    This Funding Opportunity Announcement (FOA), issued by the NHLBI, invites Program Project Grant (PPG) applications that address the mission of NHLBI as outlined in the Purpose section above. Investigators are encouraged to visit the NHLBI website for additional information about the research mission and high-priority research areas of the NHLBI (http://www.nhlbi.nih.gov/about/strategicplan/index.htm.)    The purpose of the Program Project is to support integrated, collaborative research programs that have a well-defined, central research focus or objective. Applications must include a minimum of three individual research projects that contribute to the Program objective. Since the NHLBI is interested in supporting new, innovative research through the Program Project, no more than half of the Projects included in a funded Program Project Grant application may include Projects that significantly overlap in time and objectives with currently funded individual research project grants, i.e., individual research project grants that would have to be relinquished if the Program Project application is funded. Each individual research Project should reflect a distinct, separate, scientifically meritorious research effort led by an independent investigator, the Project Leader. In addition, the individual Projects should be clearly interrelated and synergistic so that the research ideas, efforts, and outcomes of the Program as a whole will offer a distinct advantage over pursuing the individual projects separately. It is expected that, as part of this integration, the PD/PI (or each of the Multiple PD(s)/PI(s)) will also serve as the Project Leader of one of the Projects and each awarded Program Project will have a minimum of three distinct/individual Project Leaders.    In addition to individual research Projects, applicants may propose an Administrative Core and one or more shared Scientific Core(s) as necessary to facilitate the proposed research Projects. It is expected that each Scientific Core will be utilized by two or more Projects within the Program. Any proposed Scientific Core, if justified, is expected to be considered essential to conduct the Program and should not duplicate existing institutional resources. Responses to Frequently Asked Questions (FAQs) are available at: https://www.nhlbi.nih.gov/research/funding/faqs-nhlbi-program-project-applications. NOTE: Phase III Clinical Trials are not allowed for this FOA. Please refer to the FAQ page for additional guidance.; Award Information        Funding Instrument        Grant: A support mechanism providing money, property, or both to an eligible entity to carry out an approved project or activity.                Application Types Allowed        New Renewal Resubmission    Applicants are limited to one renewal (Type 2). No renewal (Type 2) applications beyond year 10 will be accepted to this FOA.    The OER Glossary and the SF424 (R&amp;R) Application Guide provide details on these application types.                Clinical Trial?        Optional: Accepting applications that either propose or do not propose clinical trial(s)    Need help determining whether you are doing a clinical trial?                Funds Available and Anticipated Number of Awards        The number of awards is contingent upon NIH appropriations and the submission of a sufficient number of meritorious applications.                Award Budget        New (Type 1) and Renewal (Type 2) applications must limit their budget request to $1,515,000 in direct costs (excluding first-tier subcontract Facilities and Administrative [F&amp;A] costs) or less in each year.    If an ESI-led Project is included and the application contains a minimum of four Projects, New (Type 1) applications must limit their budget request to $1,765,000 in direct costs (excluding first-tier subcontract Facilities and Administrative [F&amp;A] costs) in each year (with a minimum of $250,000 per year in direct costs for the ESI-led Project).    Project budgets should reflect the actual needs of the proposed project. No annual increases in noncompeting years may be requested.    Facilities and administrative costs requested by first tier consortium participants are not included in the direct cost (see NOT-OD-05-004). However, facilities and administrative costs for second tier consortium are included in the direct cost.    Applicants should discuss equipment requests with NHLBI staff early in the planning phase and must receive permission from the Institute to include equipment costs in their budget request. Equipment is included in the budget ceiling. Final decisions on equipment requests will depend on the nature of the justification and the Institute's fiscal situation.                  Award Project Period        The scope of the proposed program should determine the project period. The maximum program period is 5 years.         ; Eligible Applicants    Eligible Organizations    Higher Education Institutions        Public/State Controlled Institutions of Higher Education    Private Institutions of Higher Education        The following types of Higher Education Institutions are always encouraged to apply for NIH support as Public or Private Institutions of Higher Education:        Hispanic-serving Institutions    Historically Black Colleges and Universities (HBCUs)    Tribally Controlled Colleges and Universities (TCCUs)    Alaska Native and Native Hawaiian Serving Institutions    Asian American Native American Pacific Islander Serving Institutions (AANAPISIs)        Nonprofits Other Than Institutions of Higher Education        Nonprofits with 501(c)(3) IRS Status (Other than Institutions of Higher Education)    Nonprofits without 501(c)(3) IRS Status (Other than Institutions of Higher Education)        For-Profit Organizations        Small Businesses    For-Profit Organizations (Other than Small Businesses)        Governments        State Governments    County Governments    City or Township Governments    Special District Governments    Indian/Native American Tribal Governments (Federally Recognized)    Indian/Native American Tribal Governments (Other than Federally Recognized)    Eligible Agencies of the Federal Government    U.S. Territory or Possession        Other        Independent School Districts    Public Housing Authorities/Indian Housing Authorities    Native American Tribal Organizations (other than Federally recognized tribal governments)    Faith-based or Community-based Organizations    Regional Organizations        Foreign Institutions    Non-domestic (non-U.S.) Entities (Foreign Institutions) are not eligible to apply.Non-domestic (non-U.S.) components of U.S. Organizations are not eligible to apply.    Foreign components, as defined in the NIH Grants Policy Statement, are allowed.\n",
            "\n",
            "Length of Text:\n",
            "1126\n",
            "\n",
            "Vectorized Text:\n",
            "[[ 29   7 558 ...   0   0   0]]\n"
          ]
        }
      ]
    },
    {
      "cell_type": "code",
      "source": [
        "# How many words in our training vocabulary\n",
        "words_in_vocab = text_vectorizer.get_vocabulary()\n",
        "print(f\"Number of words in Vocabulary: {len(words_in_vocab)}\")\n",
        "print(f\"Most 5 common words in Vocabulary: {words_in_vocab[:5]}\")\n",
        "print(f\"Least 5 common words in Vocabulary: {words_in_vocab[-5:]}\")"
      ],
      "metadata": {
        "colab": {
          "base_uri": "https://localhost:8080/"
        },
        "id": "OL4d26fEtrGg",
        "outputId": "79589a4e-e68c-4468-fb44-3faacfc48f21"
      },
      "execution_count": null,
      "outputs": [
        {
          "output_type": "stream",
          "name": "stdout",
          "text": [
            "Number of words in Vocabulary: 37734\n",
            "Most 5 common words in Vocabulary: ['', '[UNK]', 'the', 'and', 'of']\n",
            "Least 5 common words in Vocabulary: ['000date', '00087798', '0000hcwg201712685', '00007', '0000001690']\n"
          ]
        }
      ]
    },
    {
      "cell_type": "code",
      "source": [
        "# get config\n",
        "text_vectorizer.get_config()"
      ],
      "metadata": {
        "colab": {
          "base_uri": "https://localhost:8080/"
        },
        "id": "a_HVV1Y0vBor",
        "outputId": "5fde4b08-aa61-45b4-f480-ad592f7aa17c"
      },
      "execution_count": null,
      "outputs": [
        {
          "output_type": "execute_result",
          "data": {
            "text/plain": [
              "{'name': 'text_vectorization',\n",
              " 'trainable': True,\n",
              " 'dtype': 'string',\n",
              " 'batch_input_shape': (None, None),\n",
              " 'max_tokens': 68000,\n",
              " 'standardize': 'lower_and_strip_punctuation',\n",
              " 'split': 'whitespace',\n",
              " 'ngrams': None,\n",
              " 'output_mode': 'int',\n",
              " 'output_sequence_length': 1787,\n",
              " 'pad_to_max_tokens': False,\n",
              " 'sparse': False,\n",
              " 'ragged': False,\n",
              " 'vocabulary': None,\n",
              " 'idf_weights': None,\n",
              " 'encoding': 'utf-8',\n",
              " 'vocabulary_size': 37734}"
            ]
          },
          "metadata": {},
          "execution_count": 22
        }
      ]
    },
    {
      "cell_type": "markdown",
      "source": [
        "### Embedding"
      ],
      "metadata": {
        "id": "AJsHxpaEvNnc"
      }
    },
    {
      "cell_type": "code",
      "source": [
        "from tensorflow.keras import layers\n",
        "\n",
        "# create embedding layer\n",
        "token_embed = layers.Embedding(input_dim = len(words_in_vocab), # length of vocabulary\n",
        "                               output_dim = 128, # Note: different embedding sizes result in drastically different numbers of parameters to train\n",
        "                               mask_zero = True,  # Use masking to handle variable sequence lengths (save space)\n",
        "                               name = \"token_embedding\")"
      ],
      "metadata": {
        "id": "5R0eybSNwCEZ"
      },
      "execution_count": null,
      "outputs": []
    },
    {
      "cell_type": "code",
      "source": [
        "# sample embedding\n",
        "print(f\"Sentence Before Vectorization:\\n{target_sentence}\\n\")\n",
        "vectorized_sentence = text_vectorizer([target_sentence])\n",
        "print(f\"Sentence After Vectorization (before embedding):\\n{vectorized_sentence}\\n\")\n",
        "embedded_sentence = token_embed(vectorized_sentence)\n",
        "print(f\"Sentence After Embedding:\\n{embedded_sentence}\\n\")\n",
        "print(f\"Embedded Sentence Shape:\\n{embedded_sentence.shape}\")"
      ],
      "metadata": {
        "colab": {
          "base_uri": "https://localhost:8080/"
        },
        "id": "lPZAaxPBwrTD",
        "outputId": "4cb3afce-0be7-4695-f5eb-6f6aaacea2b7"
      },
      "execution_count": null,
      "outputs": [
        {
          "output_type": "stream",
          "name": "stdout",
          "text": [
            "Sentence Before Vectorization:\n",
            "Support for Integrated, Collaborative Research: Purpose    The National Heart, Lung, and Blood Institute (NHLBI) Program Project Grant (P01) supports research related to fundamental processes and diseases of the heart, blood and lymphatic vessels, lungs, and blood, including transfusion medicine, blood resources, and sleep disorders and other programs including implementation science, health disparities, and translation research that address the mission of the Institute.  This FOA requires a minimum of three interrelated research projects that investigate a complex biomedical theme or research question. The projects may be supported by core units, if justified, to facilitate economy of effort, space, and equipment. The NHLBI provides support for Program Project Grants (PPGs) in the belief that collaborative research efforts can accelerate the acquisition of knowledge more effectively than a simple aggregate of research projects that have no interaction or thematic integration.    NHLBI is particularly interested in encouraging new scientific directions in PPGs. Use of the P01 mechanism is viewed as an opportunity to attract and include scientists who traditionally have not been supported by the NHLBI. Further, the PPG environment presents an opportunity for emerging scientific leaders to gain insight into how to lead a successful scientific program, and applicants will have the opportunity to include a project led by an Early Stage Investigator (ESI). All projects in the Program must be interrelated and have objectives that address a central theme within the scientific mandate of the NHLBI.    Research Objectives    This Funding Opportunity Announcement (FOA), issued by the NHLBI, invites Program Project Grant (PPG) applications that address the mission of NHLBI as outlined in the Purpose section above. Investigators are encouraged to visit the NHLBI website for additional information about the research mission and high-priority research areas of the NHLBI (http://www.nhlbi.nih.gov/about/strategicplan/index.htm.)    The purpose of the Program Project is to support integrated, collaborative research programs that have a well-defined, central research focus or objective. Applications must include a minimum of three individual research projects that contribute to the Program objective. Since the NHLBI is interested in supporting new, innovative research through the Program Project, no more than half of the Projects included in a funded Program Project Grant application may include Projects that significantly overlap in time and objectives with currently funded individual research project grants, i.e., individual research project grants that would have to be relinquished if the Program Project application is funded. Each individual research Project should reflect a distinct, separate, scientifically meritorious research effort led by an independent investigator, the Project Leader. In addition, the individual Projects should be clearly interrelated and synergistic so that the research ideas, efforts, and outcomes of the Program as a whole will offer a distinct advantage over pursuing the individual projects separately. It is expected that, as part of this integration, the PD/PI (or each of the Multiple PD(s)/PI(s)) will also serve as the Project Leader of one of the Projects and each awarded Program Project will have a minimum of three distinct/individual Project Leaders.    In addition to individual research Projects, applicants may propose an Administrative Core and one or more shared Scientific Core(s) as necessary to facilitate the proposed research Projects. It is expected that each Scientific Core will be utilized by two or more Projects within the Program. Any proposed Scientific Core, if justified, is expected to be considered essential to conduct the Program and should not duplicate existing institutional resources. Responses to Frequently Asked Questions (FAQs) are available at: https://www.nhlbi.nih.gov/research/funding/faqs-nhlbi-program-project-applications. NOTE: Phase III Clinical Trials are not allowed for this FOA. Please refer to the FAQ page for additional guidance.; Award Information        Funding Instrument        Grant: A support mechanism providing money, property, or both to an eligible entity to carry out an approved project or activity.                Application Types Allowed        New Renewal Resubmission    Applicants are limited to one renewal (Type 2). No renewal (Type 2) applications beyond year 10 will be accepted to this FOA.    The OER Glossary and the SF424 (R&amp;R) Application Guide provide details on these application types.                Clinical Trial?        Optional: Accepting applications that either propose or do not propose clinical trial(s)    Need help determining whether you are doing a clinical trial?                Funds Available and Anticipated Number of Awards        The number of awards is contingent upon NIH appropriations and the submission of a sufficient number of meritorious applications.                Award Budget        New (Type 1) and Renewal (Type 2) applications must limit their budget request to $1,515,000 in direct costs (excluding first-tier subcontract Facilities and Administrative [F&amp;A] costs) or less in each year.    If an ESI-led Project is included and the application contains a minimum of four Projects, New (Type 1) applications must limit their budget request to $1,765,000 in direct costs (excluding first-tier subcontract Facilities and Administrative [F&amp;A] costs) in each year (with a minimum of $250,000 per year in direct costs for the ESI-led Project).    Project budgets should reflect the actual needs of the proposed project. No annual increases in noncompeting years may be requested.    Facilities and administrative costs requested by first tier consortium participants are not included in the direct cost (see NOT-OD-05-004). However, facilities and administrative costs for second tier consortium are included in the direct cost.    Applicants should discuss equipment requests with NHLBI staff early in the planning phase and must receive permission from the Institute to include equipment costs in their budget request. Equipment is included in the budget ceiling. Final decisions on equipment requests will depend on the nature of the justification and the Institute's fiscal situation.                  Award Project Period        The scope of the proposed program should determine the project period. The maximum program period is 5 years.         ; Eligible Applicants    Eligible Organizations    Higher Education Institutions        Public/State Controlled Institutions of Higher Education    Private Institutions of Higher Education        The following types of Higher Education Institutions are always encouraged to apply for NIH support as Public or Private Institutions of Higher Education:        Hispanic-serving Institutions    Historically Black Colleges and Universities (HBCUs)    Tribally Controlled Colleges and Universities (TCCUs)    Alaska Native and Native Hawaiian Serving Institutions    Asian American Native American Pacific Islander Serving Institutions (AANAPISIs)        Nonprofits Other Than Institutions of Higher Education        Nonprofits with 501(c)(3) IRS Status (Other than Institutions of Higher Education)    Nonprofits without 501(c)(3) IRS Status (Other than Institutions of Higher Education)        For-Profit Organizations        Small Businesses    For-Profit Organizations (Other than Small Businesses)        Governments        State Governments    County Governments    City or Township Governments    Special District Governments    Indian/Native American Tribal Governments (Federally Recognized)    Indian/Native American Tribal Governments (Other than Federally Recognized)    Eligible Agencies of the Federal Government    U.S. Territory or Possession        Other        Independent School Districts    Public Housing Authorities/Indian Housing Authorities    Native American Tribal Organizations (other than Federally recognized tribal governments)    Faith-based or Community-based Organizations    Regional Organizations        Foreign Institutions    Non-domestic (non-U.S.) Entities (Foreign Institutions) are not eligible to apply.Non-domestic (non-U.S.) components of U.S. Organizations are not eligible to apply.    Foreign components, as defined in the NIH Grants Policy Statement, are allowed.\n",
            "\n",
            "Sentence After Vectorization (before embedding):\n",
            "[[ 29   7 558 ...   0   0   0]]\n",
            "\n",
            "Sentence After Embedding:\n",
            "[[[-0.01003956  0.02043066  0.04066891 ... -0.01647874  0.01595933\n",
            "    0.0072092 ]\n",
            "  [ 0.03533738  0.0311521  -0.03944357 ...  0.03020712 -0.02317218\n",
            "   -0.03396474]\n",
            "  [ 0.04251994 -0.00600393 -0.02439315 ...  0.04427302 -0.01010265\n",
            "   -0.04516661]\n",
            "  ...\n",
            "  [-0.0463691   0.04958068  0.02839884 ...  0.03501425  0.02412732\n",
            "   -0.00089784]\n",
            "  [-0.0463691   0.04958068  0.02839884 ...  0.03501425  0.02412732\n",
            "   -0.00089784]\n",
            "  [-0.0463691   0.04958068  0.02839884 ...  0.03501425  0.02412732\n",
            "   -0.00089784]]]\n",
            "\n",
            "Embedded Sentence Shape:\n",
            "(1, 1787, 128)\n"
          ]
        }
      ]
    },
    {
      "cell_type": "markdown",
      "source": [
        "### One hot encoding for type of text"
      ],
      "metadata": {
        "id": "C24h-C-DymPw"
      }
    },
    {
      "cell_type": "code",
      "source": [
        "train_df[\"Type\"].to_numpy()"
      ],
      "metadata": {
        "colab": {
          "base_uri": "https://localhost:8080/"
        },
        "id": "Q0J1yPwR09xd",
        "outputId": "bc058814-8241-4d88-85e4-fc03208b5cc8"
      },
      "execution_count": null,
      "outputs": [
        {
          "output_type": "execute_result",
          "data": {
            "text/plain": [
              "array(['Contract', 'Grant', 'Grant', ..., 'Grant', 'Organization', 'News'],\n",
              "      dtype=object)"
            ]
          },
          "metadata": {},
          "execution_count": 25
        }
      ]
    },
    {
      "cell_type": "code",
      "source": [
        "# use tensorflow to create one-hot encoded tensor of our \"Type\" column\n",
        "from sklearn.preprocessing import LabelEncoder\n",
        "from sklearn.preprocessing import OneHotEncoder\n",
        "\n",
        "# first apply label encoding\n",
        "label_encoder = LabelEncoder()\n",
        "integer_encoded_train = label_encoder.fit_transform(train_df[\"Type\"].to_numpy())\n",
        "integer_encoded_test = label_encoder.fit_transform(test_df[\"Type\"].to_numpy())\n",
        "\n",
        "# now we can apply one hot encoding\n",
        "onehot_encoder = OneHotEncoder(sparse_output=False)\n",
        "integer_encoded_train = integer_encoded_train.reshape(len(integer_encoded_train), 1)\n",
        "integer_encoded_test = integer_encoded_test.reshape(len(integer_encoded_test), 1)\n",
        "\n",
        "train_type_one_hot = onehot_encoder.fit_transform(integer_encoded_train)\n",
        "test_type_one_hot = onehot_encoder.fit_transform(integer_encoded_test)"
      ],
      "metadata": {
        "id": "vqNZJLEGyrDN"
      },
      "execution_count": null,
      "outputs": []
    },
    {
      "cell_type": "code",
      "source": [
        "len_type_one_hot = len(train_type_one_hot[0])\n",
        "len_type_one_hot"
      ],
      "metadata": {
        "colab": {
          "base_uri": "https://localhost:8080/"
        },
        "id": "dyQsYn8P28YP",
        "outputId": "a4c3633f-b04a-44d2-ebdc-a17cc28d9ae6"
      },
      "execution_count": null,
      "outputs": [
        {
          "output_type": "execute_result",
          "data": {
            "text/plain": [
              "8"
            ]
          },
          "metadata": {},
          "execution_count": 27
        }
      ]
    },
    {
      "cell_type": "code",
      "source": [
        "train_type_one_hot"
      ],
      "metadata": {
        "colab": {
          "base_uri": "https://localhost:8080/"
        },
        "id": "wRC2RoIe2uwS",
        "outputId": "1988c3f9-1b26-4055-d7b0-80806c3b56d8"
      },
      "execution_count": null,
      "outputs": [
        {
          "output_type": "execute_result",
          "data": {
            "text/plain": [
              "array([[1., 0., 0., ..., 0., 0., 0.],\n",
              "       [0., 0., 1., ..., 0., 0., 0.],\n",
              "       [0., 0., 1., ..., 0., 0., 0.],\n",
              "       ...,\n",
              "       [0., 0., 1., ..., 0., 0., 0.],\n",
              "       [0., 0., 0., ..., 1., 0., 0.],\n",
              "       [0., 0., 0., ..., 0., 0., 0.]])"
            ]
          },
          "metadata": {},
          "execution_count": 28
        }
      ]
    },
    {
      "cell_type": "code",
      "source": [
        "test_type_one_hot"
      ],
      "metadata": {
        "colab": {
          "base_uri": "https://localhost:8080/"
        },
        "id": "Fm8WqDL5KuYw",
        "outputId": "40abdda9-3dc6-43b0-e03d-fc1625541b36"
      },
      "execution_count": null,
      "outputs": [
        {
          "output_type": "execute_result",
          "data": {
            "text/plain": [
              "array([[0., 0., 0., ..., 0., 0., 0.],\n",
              "       [0., 0., 1., ..., 0., 0., 0.],\n",
              "       [0., 0., 0., ..., 1., 0., 0.],\n",
              "       ...,\n",
              "       [0., 0., 1., ..., 0., 0., 0.],\n",
              "       [0., 0., 1., ..., 0., 0., 0.],\n",
              "       [0., 0., 1., ..., 0., 0., 0.]])"
            ]
          },
          "metadata": {},
          "execution_count": 29
        }
      ]
    },
    {
      "cell_type": "code",
      "source": [
        "train_type_one_hot[0].dtype"
      ],
      "metadata": {
        "colab": {
          "base_uri": "https://localhost:8080/"
        },
        "id": "b3zu0j_fW50w",
        "outputId": "7d3d283e-b118-466c-9bc5-e70d96e00be8"
      },
      "execution_count": null,
      "outputs": [
        {
          "output_type": "execute_result",
          "data": {
            "text/plain": [
              "dtype('float64')"
            ]
          },
          "metadata": {},
          "execution_count": 30
        }
      ]
    },
    {
      "cell_type": "code",
      "source": [
        "train_type_one_hot.shape"
      ],
      "metadata": {
        "colab": {
          "base_uri": "https://localhost:8080/"
        },
        "id": "rTX0QWzSbjEX",
        "outputId": "97716de8-5af2-4f60-f3f1-c2842c0297fc"
      },
      "execution_count": null,
      "outputs": [
        {
          "output_type": "execute_result",
          "data": {
            "text/plain": [
              "(2396, 8)"
            ]
          },
          "metadata": {},
          "execution_count": 31
        }
      ]
    },
    {
      "cell_type": "markdown",
      "source": [
        "## Build the model"
      ],
      "metadata": {
        "id": "8E3PNMy7U9j0"
      }
    },
    {
      "cell_type": "code",
      "source": [
        "# 1. Token inputs\n",
        "token_inputs = layers.Input(shape = [], dtype = \"string\", name = \"token_inputs\")\n",
        "token_vectorization = text_vectorizer(token_inputs)\n",
        "token_embeddings = token_embed(token_vectorization)\n",
        "\n",
        "token_cnn = layers.Bidirectional(layers.LSTM(32))(token_embeddings)\n",
        "token_outputs = layers.Dense(256, activation = \"relu\")(token_cnn)\n",
        "token_model = tf.keras.Model(inputs = token_inputs, outputs = token_outputs)\n",
        "\n",
        "# 2. Type inputs\n",
        "type_inputs = layers.Input(shape = (len_type_one_hot,), dtype = tf.float64, name = \"type_inputs\")\n",
        "type_outputs = layers.Dense(64, activation = \"relu\")(type_inputs)\n",
        "type_model = tf.keras.Model(inputs = type_inputs, outputs = type_outputs)\n",
        "\n",
        "# 3. Combined\n",
        "combined_embeddings = layers.Concatenate(name = \"token_type_hybrid_embedding\")([token_model.output, type_model.output])\n",
        "\n",
        "# 4. Output layer\n",
        "output_layer = layers.Dense(27, activation = \"softmax\", name = \"output_layer\")(combined_embeddings)\n",
        "\n",
        "# 5. Put all the layers\n",
        "model = tf.keras.Model(inputs = [token_model.input, type_model.input], outputs = output_layer, name = \"model\")"
      ],
      "metadata": {
        "id": "1rDHWolPU_Ey"
      },
      "execution_count": null,
      "outputs": []
    },
    {
      "cell_type": "code",
      "source": [
        "model.summary()"
      ],
      "metadata": {
        "colab": {
          "base_uri": "https://localhost:8080/"
        },
        "id": "U1Jw_j1mdgwx",
        "outputId": "dce95aa3-6d70-43aa-9aef-35daf9809edc"
      },
      "execution_count": null,
      "outputs": [
        {
          "output_type": "stream",
          "name": "stdout",
          "text": [
            "Model: \"model\"\n",
            "__________________________________________________________________________________________________\n",
            " Layer (type)                Output Shape                 Param #   Connected to                  \n",
            "==================================================================================================\n",
            " token_inputs (InputLayer)   [(None,)]                    0         []                            \n",
            "                                                                                                  \n",
            " text_vectorization (TextVe  (None, 1787)                 0         ['token_inputs[0][0]']        \n",
            " ctorization)                                                                                     \n",
            "                                                                                                  \n",
            " token_embedding (Embedding  (None, 1787, 128)            4829952   ['text_vectorization[1][0]']  \n",
            " )                                                                                                \n",
            "                                                                                                  \n",
            " conv1d_2 (Conv1D)           (None, 1785, 16)             6160      ['token_embedding[1][0]']     \n",
            "                                                                                                  \n",
            " global_max_pooling1d_2 (Gl  (None, 16)                   0         ['conv1d_2[0][0]']            \n",
            " obalMaxPooling1D)                                                                                \n",
            "                                                                                                  \n",
            " type_inputs (InputLayer)    [(None, 8)]                  0         []                            \n",
            "                                                                                                  \n",
            " dense_2 (Dense)             (None, 128)                  2176      ['global_max_pooling1d_2[0][0]\n",
            "                                                                    ']                            \n",
            "                                                                                                  \n",
            " dense_3 (Dense)             (None, 32)                   288       ['type_inputs[0][0]']         \n",
            "                                                                                                  \n",
            " token_type_hybrid_embeddin  (None, 160)                  0         ['dense_2[0][0]',             \n",
            " g (Concatenate)                                                     'dense_3[0][0]']             \n",
            "                                                                                                  \n",
            " output_layer (Dense)        (None, 27)                   4347      ['token_type_hybrid_embedding[\n",
            "                                                                    0][0]']                       \n",
            "                                                                                                  \n",
            "==================================================================================================\n",
            "Total params: 4842923 (18.47 MB)\n",
            "Trainable params: 4842923 (18.47 MB)\n",
            "Non-trainable params: 0 (0.00 Byte)\n",
            "__________________________________________________________________________________________________\n"
          ]
        }
      ]
    },
    {
      "cell_type": "code",
      "source": [
        "# plot the model\n",
        "from tensorflow.keras.utils import plot_model\n",
        "plot_model(model)"
      ],
      "metadata": {
        "colab": {
          "base_uri": "https://localhost:8080/",
          "height": 758
        },
        "id": "fedlc3rTX5M1",
        "outputId": "180ce179-e5da-4548-e510-ef08aecea98a"
      },
      "execution_count": null,
      "outputs": [
        {
          "output_type": "execute_result",
          "data": {
            "image/png": "[encoded data removed]",
            "text/plain": [
              "<IPython.core.display.Image object>"
            ]
          },
          "metadata": {},
          "execution_count": 43
        }
      ]
    },
    {
      "cell_type": "code",
      "source": [
        "# compile the model\n",
        "model.compile(loss = \"categorical_crossentropy\",\n",
        "              optimizer = tf.keras.optimizers.Adam(),\n",
        "              metrics = [\"accuracy\"])"
      ],
      "metadata": {
        "id": "ITqsKOL7YA2m"
      },
      "execution_count": null,
      "outputs": []
    },
    {
      "cell_type": "markdown",
      "source": [
        "## Create the dataset"
      ],
      "metadata": {
        "id": "eSGvFVT_YVmA"
      }
    },
    {
      "cell_type": "code",
      "source": [
        "# create training datasets (for all inputs)\n",
        "train_sentences = train_df[\"Text\"].to_numpy()\n",
        "train_labels_one_hot = train_df.iloc[:, 3:len(train_df.columns)-2]\n",
        "train_labels_one_hot = train_labels_one_hot.to_numpy()\n",
        "\n",
        "train_labels_one_hot[:5], train_sentences[:5]"
      ],
      "metadata": {
        "id": "VVMeJIr9YUZo",
        "colab": {
          "base_uri": "https://localhost:8080/"
        },
        "outputId": "4879225e-ed88-4871-c279-26430d6a5056"
      },
      "execution_count": null,
      "outputs": [
        {
          "output_type": "execute_result",
          "data": {
            "text/plain": [
              "(array([[0, 0, 0, 0, 0, 0, 0, 0, 0, 0, 0, 0, 0, 0, 0, 0, 1, 1, 0, 0, 0, 0,\n",
              "         0, 0, 1, 0, 0],\n",
              "        [0, 0, 0, 0, 0, 0, 0, 0, 1, 0, 0, 0, 0, 0, 0, 0, 0, 0, 0, 0, 0, 0,\n",
              "         0, 0, 0, 0, 1],\n",
              "        [0, 0, 0, 0, 0, 0, 0, 0, 0, 0, 0, 0, 0, 0, 0, 0, 0, 0, 0, 0, 0, 0,\n",
              "         0, 1, 0, 0, 0],\n",
              "        [0, 0, 0, 0, 0, 0, 0, 0, 0, 0, 0, 0, 0, 0, 0, 0, 0, 0, 0, 1, 1, 0,\n",
              "         0, 0, 0, 0, 0],\n",
              "        [0, 0, 0, 0, 0, 0, 0, 0, 0, 0, 0, 0, 0, 0, 0, 0, 0, 0, 0, 0, 0, 1,\n",
              "         0, 0, 0, 0, 0]]),\n",
              " array(['Safe, Affordable, and Effective Medicines for Ukrainians (SAFEMed)',\n",
              "        \"Support for Strategies and Activities to Eliminate Congenital Syphilis, Prevent Antibiotic Resistant Gonorrhea, Reduce Primary and Secondary Syphilis Overview    CDC estimates that approximately 20 million new, viral and bacterial sexually transmitted infections occur each year and that almost half of them are among young people ages 15 to 24. Three curable bacterial sexually transmitted diseases (STDs): chlamydia (CT), gonorrhea (GC), and syphilis are nationally reportable and are the focus of federally funded STD prevention programs throughout the United States (U.S.). In 2016, increases in all three were observed: nearly 1.6 million cases of chlamydia, over 460,000 cases of gonorrhea, and nearly 28,000 cases of primary and secondary syphilis were reported to CDC. For syphilis, this represented a 16.5% increase from 2015 and a 77.5% increase from 2012. Reported cases of congenital syphilis increased by 88% during 2012- 2016. Often, these diseases are asymptomatic. Patients unaware of their infection may face serious, long-term consequences; for example, untreated CT and GC increase a woman's risk for pelvic inflammatory disease (PID) and infertility. Untreated early syphilis in pregnant women can lead to infection of the fetus in 80% of cases and can result in adverse pregnancy outcomes. Untreated bacterial STDs can facilitate the sexual transmission of HIV.    These three bacterial STDs have effective testing and treatment modalities that make it possible to avoid costly long-term consequences. However, Neisseria gonorrhoeae, the causative bacterium of GC, has rapidly acquired resistance to all but one of the antimicrobials that have been used for treatment, raising concerns about the threat of untreatable GC. In addition to the physical and psychological consequences of STDs, these diseases exact a significant economic toll; direct medical costs associated with chlamydia, gonorrhea, and syphilis are approximately $857.2 million dollars annually.    Health departments play a critical role in addressing STD prevention and control and are wellpositioned to monitor and understand local trends in STDs through case-based surveillance, and to respond to emerging threats and outbreaks. Health department STD programs also have the authority and skills to conduct disease investigation activities including partner services, an effective intervention to prevent STD transmission in some populations [4]. Given that most STDs are diagnosed outside of public STD clinics, health departments must also work with primary care and other health care providers and organizations to promote the delivery of recommended, evidence-based STD screening, timely treatment, and other prevention services.    STD prevention and control in the public health sector is guided by the public health functions of assessment, assurance, and policy development [6]. Assessment is defined as determining community strengths and identifying current and emerging threats to the community's health through regular and systematic surveillance and review of risk factors and health indicators with public health and health care system partners. Assurance moves beyond measuring and understanding the activity or problem to actively taking steps to improve the activity or to reduce or solve the problem. Policy development is defined as working with partners to promote and protect the health of the community through formal and informal policies, program guidelines, and environmental changes.    Through this new funding cycle, CDC seeks to strengthen STD prevention and control for health departments\",\n",
              "        'Addressing Research Gaps Related to the Use of Genomic Information to Advance the Science of Medicine and Improve the Effectiveness of Healthcare Background:    The National Human Genome Research Institute (NHGRI) is committed to using genomics to advance our understanding of human biology and improve the diagnosis, prevention and treatment of human disease in all populations. NHGRI\\'s strategic vision extends from basic research to health applications, and projects increasing levels of research activity over time to advance the science of medicine and improve the effectiveness of health care. These latter activities constitute the genomic medicine research portfolio at NHGRI. Advancing the science of medicine includes studying how genomics can impact prevention, diagnosis and treatment; building an evidence base for genomic medicine; understanding how genomic information may contribute to the reduction of health disparities; and improving how we interpret genomic data to facilitate the return of information to clinicians and patients. Improving the effectiveness of health care includes developing innovative approaches to incorporate genomic data into electronic health records (EHRs); demonstrating effectiveness and clinical utility of genomic information across diverse populations; and increasing access to genomic information across different healthcare systems.    The adoption of genomic information in clinical settings has increased and is already making a difference in patient care. To date, NHGRI has primarily funded genomic medicine research through multi-disciplinary consortia, which provide rich opportunities for collaboration or ancillary projects and have produced valuable data resources and tools for independent investigator-initiated genomic medicine research. These programs include the Electronic Medical Records and Genomics (eMERGE) Network, the Clinical Sequencing Evidence-generating Research (CSER) program, the Newborn Sequencing in Genomic Medicine and Public Health (NSIGHT) program, the Implementing Genomics in Practice (IGNITE) consortium and Clinical Genome (ClinGen) Resource. The Undiagnosed Diseases Network (UDN), funded through the NIH Common Fund, along with other projects both in the US and internationally, are also addressing critical aspects of genomic medicine. NHGRI has also held a number of workshops that have provided recommendations for research in genomic medicine by consortia or independent investigators, including: Genomic Medicine IX and X; NHGRI Roundtable on Inclusion of Underrepresented Populations in Genomics, IGNITE and Beyond, eMERGE and Beyond, CSER and Beyond, and eMERGE &amp; CSER: The Convergence of Genomics and Medicine.    The growing application of genomics in clinical settings, combined with the knowledge gained to date from early efforts in genomic medicine research, suggest the need for discrete, focused research projects. These include projects carried out in unique clinical applications or settings, at a single site, which propose nimble, flexible approaches to problems, and do not require large-scale coordinated consortium approaches. This FOA will expand NHGRI\\'s portfolio of investigator-initiated projects in genomic medicine and develop robust and rigorous science in this area that complements ongoing consortia work at NIH.    Definitions    In the context of this FOA, the following definitions apply:                \"Genomic medicine\" is defined as a medical discipline that involves using genomic information about an individual as part of their clinical care (e.g., for diagnostic or therapeutic decision-making) and the health outcomes and policy implications of that clinical use.    \"Genomic data\" is defined as single nucleotide polymorphism (SNP) array data, genome sequence data, transcriptomic data, epigenomic data, or other molecular data produced by array-based technologies or high-throughput sequencing technologies.                Research Objectives    This FOA will stimulate innovation and advance our understanding of when, where and how best to implement the use of genomic information and technologies in clinical care in all populations. The FOA encourages targeted scientific research studies focused on genomic medicine, including, but not limited to, the impact of genome sequencing on disease prevention, diagnosis, treatment, or subsequent healthcare utilization, the incorporation of pharmacogenomic information into clinical care, strategies for integrating genomic and clinical data through the development and implementation of biomedical ontologies, approaches for facilitating beside-back-to-bench studies, and assessing methods for expanding access to genomic information across healthcare systems.    Areas of Research Interest    This FOA centers on addressing research gaps related to the use of genomic information to advance the science of medicine and improve the effectiveness of healthcare. Application of novel concepts, approaches, methodologies, and/or instrumentation to these questions is encouraged. Projects should be broadly applicable to genomic medicine as a field, rather than being applicable only to a specific disease or disease area. Studies of a single disease or disease area are not encouraged, and will only be considered if it is clearly explained how the proposed work would advance the field of genomic medicine, and a description of how follow-up work would apply to other disease areas is included. Studies that focus on a specific gene, or limited set of genes, should be paradigm-setting and yield findings of relevance at a genomic level. Studies should yield findings of relevance beyond a single site or institution, and demonstrate ability to advance the field if implemented at other settings. Studies should address clinical translation or implementation and should not be focused solely on variant discovery or on functional assays. Genomic medicine research that secondarily addresses ELSI issues will be supported under this FOA, but research primarily focused on Ethical, Legal and Social Implications (ELSI) of genomic medicine will continue to be supported under the ELSI research program. Additional information on ELSI research funding opportunities and priorities is available on the ELSI Research homepage (https://genome.gov/elsi). NHGRI encourages applications that address how genomic information may contribute to the reduction of health disparities, and applications that include population groups traditionally under-represented in genomic research. PD(s)/PI(s) are also encouraged to include investigators and trainees who are members of groups under-represented in the U.S. biomedical, clinical, behavioral and social sciences research enterprise (NOT-OD-18-129).    In the context of their relevance to genomic medicine, the following are examples of the types of research studies that would be appropriate for this FOA. This list is provided as a set of examples, and should not be considered exhaustive. Applicants are encouraged to propose creative and innovative research topics and approaches that go beyond the specific examples listed here:                 Integration of other data types, such as environmental data, family history, transcriptomics, epigenomics, functional data, or model organism data to improve assessment of clinical validity or clinical utility of genomic information.    Development of computational, health-economic, or other analytical approaches that identify characteristics of participants likely to derive the greatest (or conversely, the least) value from incorporating various types of genomic data into clinical care. Applicants considering health-economic approaches should review NOT-OD-16-025, Clarifying NIH priorities for Health Economics Research, https://grants.nih.gov/grants/guide/notice-files/NOT-OD-16-025.html.    Assessment of improved approaches for reanalyzing patient genomic data and understanding its impact on clinical care.    Improvement of methods to integrate genomic data from heterogeneous sources into EHRs, to facilitate clinical implementation.    Comparison of health care utilization or disease outcomes after implementation of clinical decision support tools for genomics.    Evaluation of novel approaches to the interpretation of genomic data in ancestrally diverse populations in clinical settings.    Evaluation of methods that automate, or otherwise improve the efficiency of, the interpretation of genomic data for implementation in clinical settings.    Development of methods to better integrate patient genomic data throughout health systems, and providing evidence that supports integration for payers and regulators.    Evaluation of methods for identifying and studying outliers in drug response during clinical care.                All applicants are strongly encouraged to contact NHGRI Staff (see contacts) to discuss the alignment of their proposed work with the goals of this FOA. Because of significant research already in progress on implementing genomics in the care of cancer patients, studies addressing tumor genomics will not be supported under this FOA.    Projects examining ways in which genomic data can be applied in clinical settings to improve the understanding of HIV/AIDS prevention, diagnosis, treatment, and related complications will also be considered in accordance with the high priority topics listed in the NIH AIDS Research Priorities document (https://grants.nih.gov/grants/guide/notice-files/NOT-OD-15-137.html). Applicants are encouraged to include HIV/AIDS patients to address these high priority areas for genomic medicine research, if appropriate. Applicants are also strongly encouraged to contact NIH staff (see contacts) before submitting an AIDS application to this FOA.    NHGRI strongly encourages investigators that plan to collect phenotype and/or environmental exposure data about their study participants to utilize standard protocols included in the PhenX Toolkit (www.phenxttoolkit.org. Applicants are also encouraged to learn about NHGRI genomic medicine research programs to identify possible synergies (https://www.genome.gov/27551170/division-of-genomic-medicine-current-research-programs/).    In addition, a Food and Drug Administration (FDA) Investigational Device Exemption (IDE) may be needed for new genomic technology methods used in clinical care, separate from the requirement for the test to have been conducted within a CLIA-certified environment. Applicants may wish to consult the following Points to Consider in Assessing When an Investigational Device Exemption (IDE) Might be Needed:  http://www.genome.gov/27561291.    Successful awardees will be encouraged to participate in relevant meetings organized by NHGRI. ',\n",
              "        'Udyama: Udyama is a food security and sustainable rural livelihoods focused action and advocacy oriented organization primarily working in the state of Orissa.  Founded in 1997 and registered as a society under Societies Registration Act, 1860. The organization aims to work towards strengthening food security and livelihoods through restoration and sustainable management of natural resources, capacity building of local communities to deal with and combating environmental hazards and through increased access to education and health services.      Udyama refers to keep on continuing efforts to go back to the roots of poverty and keep on working together towards reducing risk &amp; vulnerability and promoting livelihoods through rejuvenating the resource base  with an empowerment and enabling process.    Udyama envisages to mitigate disaster risk management and protection of Environment in rural, coastal and urban areas for social  and entrepreneurship development.    Reality transformation and providing techno managerial support to all sections for a change management and development through advocacy and capacity building inputs is the crux of Udyam initiatives    Orissa is having serene atmosphere with varied topography combined with diversity of culture, climate, habits and habitats followed by concerns and compassion on living together with rich resource. Living in harmony with nature dwindled gradually and rich resource including coasts has become under and less utilization due to internal and external pressure.    Mission Linking people together to work on rights based approach for collective actions towards reducing disaster risk (Natural, Climate and Manmade)   and  achieving livelihood,  social justice and gender rights, equitable and sustainable development.',\n",
              "        \"Provision of Consultancy Services to Improve the Availability of Surveillance Data on Tobacco Use, Exposure and Related Health Outcomes; ; About WHO     WHO Mission Statement     The World Health Organization was established in 1948 as a specialized agency of the United Nations. The objective of WHO (www.who.int) is the attainment by all peoples of the highest possible level of health. &ldquo;Health&rdquo;, as defined in the WHO Constitution, is a state of complete physical, mental and social well being and not merely the absence of disease or infirmity. WHO's main function is to act as the directing and coordinating authority on international health work.    Structure of WHO     The World Health Assembly (WHA) is the main governing body of WHO. It generally meets in Geneva in May of each year and is composed of delegations representing all 194 Member States. Its main function is to determine the policies of the Organization. In addition to its public health functions, the Health Assembly appoints the Director-General, supervises the financial policies of the Organization, and reviews and approves the proposed programme budget. It also considers reports of the WHO Executive Board, which it instructs with regard to matters upon which further action, study, investigation or report may be required.    The Executive Board is composed of 34 members elected for three-year terms. The main functions of the Board are to give effect to the decisions and policies of the WHA, to advise it and generally to facilitate its work. The Board normally meets twice a year; one meeting is usually in January, and the second is in May, following the World Health Assembly.    The WHO Secretariat consists of some 7,900 staff at the Organization's headquarters in Geneva, in the six regional offices and in countries. The Secretariat is headed by the Director-General, who is appointed by the WHA on the nomination of the Executive Board. The head of each regional office is a Regional Director. Regional directors are appointed by the Executive Board in agreement with the relevant regional committee.          ; Objective of the RFP     The purpose of this Request for Proposals (RFP) is to enter into a contractual agreement with a successful bidder and select a suitable contractor to implement a national level survey according to the protocol provided by WHO to monitor compliance with national smoke free laws and tobacco advertising, promotion and sponsorship bans, using traditional surveys and crowd sourcing.    WHO is an Organization that is dependent on the budgetary and extra-budgetary contributions it receives for the implementation of its activities. Bidders are, therefore, requested to propose the best and most costeffective solution to meet WHO requirements, while ensuring a high level of service.    Overview and current approach     The Prevention of Noncommunicable Diseases (PND) Department of the World Health Organization (WHO) is reponsible for the Global Tobacco Contol Report under its Surveillance and Monitoring area of work. Through surveillance and monitoring of tobacco, the WHO Tobacco Free Initiative seeks to improve the availability of surveillance data on tobacco use, exposure and related health outcomes. WHO/PND is launching a pilot project on measuring compliance with smoke-free legislation and bans on tobacco advertising, promotion and sponsorship (TAPS). The pilot project will test two different methods to collect data, a conventional and a crowdsourcing survey, using mobile technology.    The contractor will be responsible implementing a national level survey to monitor compliance with national smoke free laws and tobacco advertising, promotion and sponsorship bans, using traditional surveys and crowd sourcing    Objectives of the present activity     WHO works with its Member States and other partners to:        encourage the use of standards and scientific and evidence-based protocols for tobacco surveys    build capacity on conducting and implementing surveys, as well as disseminating and using their results    develop, maintain and report data to monitor tobacco control policies develop, maintain and report data on health outcomes related to tobacco use and exposuret             REQUIREMENTS    Introduction     WHO requires the successful bidder, the Contractor, to carry out the Contractor, to carry out a national level survey to monitor compliance with national smoke free laws and tobacco advertising, promotion and sponsorship bans, using traditional surveys and crowd sourcing.    Characteristics of the provider     Status     The provider shall be a for profit or not for profit such as Ministries of Health or government agencies, Nongovernmental agencies, academic institutions or organizations with expertise and validated experience on surveillance work institution operating in the field of data collection with proven expertise in conducting surveys, monitoring compliance with heath regulations and experience IT/Crowd sourcing.    Accreditations     An accreditation (in the form of quality certificates, ISO certification)) or an on-going accreditation process by a certified accreditation body will be an asset.    Previous experience    Previous work with WHO, other international organizations and/or major institutions in the field of: Surveillance is required. Proven experience in: Conducting survey and Proven experience in the use of IT/Crowd sourcing is required.    Staffing     Project manager with 10 years&rsquo; experience in surveillance and some knowledge of the health sector. IT expert with experience in using mobile applications and crowd sourcing for conducting surveys. Field surveyors to conduct the traditional survey in different parts of the country.         Key requirements     The contractor will be responsible for collecting data to assess levels of compliance with smoke free laws and TAPS bans at the national level and by venue (e.g. hospitals and bars). The contractor will also generate high quality data from both traditional surveys and crowd sourcing to be able to compare the cost effectiveness and quality of both approaches.    The contractor will provide a complete list of the total number of formally registered sites in the country for each of the following:        Health facilities (hospitals and primary care centres &ndash; public and private)    Education facilities (primary and secondary schools &ndash; public and private)    Universities    Government facilities (buildings and work places where government staff perform their duties)    Indoor offices (NGO and private sector work places including banks, post offices, retail and malls)    Restaurants (establishments where the main business is to serve food)    Cafes, pubs and bars ( establishments where the main business is to serve beverages)    Public transport (Taxi, Train, Metro and Bus)    \"],\n",
              "       dtype=object))"
            ]
          },
          "metadata": {},
          "execution_count": 45
        }
      ]
    },
    {
      "cell_type": "code",
      "source": [
        "# create test datasets (for all inputs)\n",
        "test_sentences = test_df[\"Text\"].to_numpy()\n",
        "test_labels_one_hot = test_df.iloc[:, 3:len(test_df.columns)-2]\n",
        "test_labels_one_hot = test_labels_one_hot.to_numpy()\n",
        "\n",
        "test_labels_one_hot[:5], test_sentences[:5]"
      ],
      "metadata": {
        "colab": {
          "base_uri": "https://localhost:8080/"
        },
        "id": "mfktPh-iJUck",
        "outputId": "d3783b19-3e6c-45f2-9a4c-3582a3fa9c24"
      },
      "execution_count": null,
      "outputs": [
        {
          "output_type": "execute_result",
          "data": {
            "text/plain": [
              "(array([[0, 0, 0, 0, 0, 0, 0, 0, 0, 1, 0, 0, 0, 0, 0, 0, 0, 0, 0, 0, 0, 0,\n",
              "         0, 0, 0, 0, 0],\n",
              "        [0, 0, 0, 0, 0, 0, 0, 0, 0, 0, 1, 1, 0, 0, 0, 0, 0, 0, 0, 0, 0, 0,\n",
              "         0, 1, 0, 0, 0],\n",
              "        [0, 0, 0, 0, 0, 0, 0, 0, 0, 0, 0, 1, 1, 0, 1, 1, 0, 0, 0, 0, 0, 0,\n",
              "         0, 0, 0, 0, 0],\n",
              "        [0, 0, 0, 0, 0, 0, 0, 0, 0, 1, 0, 0, 0, 0, 0, 0, 0, 0, 0, 0, 0, 0,\n",
              "         0, 0, 0, 0, 0],\n",
              "        [0, 0, 0, 0, 1, 0, 0, 0, 0, 0, 0, 0, 0, 0, 0, 0, 0, 0, 0, 0, 0, 0,\n",
              "         0, 0, 0, 0, 0]]),\n",
              " array([\"Early-life Factors and Cancer Development Later in Life: Purpose    The purpose of this Funding Opportunity Announcement (FOA) is to stimulate research focused on the role of early-life factors (maternal-paternal, in utero, birth and infancy, puberty, adolescence, and young adult years) in cancer development later in life. Given that current emerging evidence from limited research indicates a potentially important role for early-life events and exposures in cancer development, it is necessary to better understand:    1) The early-life (maternal-paternal, in utero, birth and infancy, puberty, adolescence, and young adult years) factors that are associated with later cancer development;    2) How early-life factors mediate biological processes relevant to carcinogenesis; and    3) Whether predictive markers for cancer risk based on what happens biologically at early-life can be measured and developed for use in cancer prevention strategies. Markers that predict malignancy or pre-malignant conditions would allow assessment of early-life exposures with relevant outcomes without having to wait decades for cancer development.    Ultimately, a better mechanistic understanding of how early-life events and exposures contribute to the etiology of cancer later in life will allow for the development of effective interventions during pregnancy or early life that may have a profound impact on cancer prevention.    This FOA uses the NIH R03 small grant mechanism. The NIH R03 small grant mechanism supports discrete, well-defined projects that realistically can be completed in 2 years and that require limited levels of funding. Examples of the types of projects that the R03 grant mechanism include, but are not limited to, the following:                Pilot or feasibility studies;    Secondary analysis of existing data;    Small, self-contained research projects;    Development of research methodology; and    Development of new research technology.                This FOA runs in parallel with two FOAs of identical scientific scope, PA-18-532, which utilizes the Exploratory/Developmental Grant (R21) mechanism, and PA-18-529, which utilizes the Research Project Grant (R01) mechanism.    Background    Most of the epidemiology research conducted to date has focused on cancer risk factors in adulthood, but it is becoming increasingly evident that early-life factors have important consequences for cancer development later in life.                There is good evidence that prenatal exposure to diethylstilbestrol (DES), a synthetic estrogen prescribed for miscarriage prevention, increased risk for cancers of the cervix, vagina, and breast in the daughters of the women who received DES. Whether DES-exposed sons have increased risks of testicular or prostate cancer is unclear because studies have produced mixed results. As the cohort of these men gets older, more data will be available to help answer this question.    Other evidence shows that early menarche has been an established risk factor for breast cancer, an observation which sparked interest in the possibility that this early time-period is critical in the etiology of this disease.    Size at birth (i.e., birth weight and length) also is associated with breast cancer risk. Birth size, a possible proxy for the prenatal environment and growth, has not adequately been studied for cancer outcomes.    In addition to early growth, having been breast fed, exposures around the time of puberty, and other factors warrant further exploration.     Other in utero and early-life factors have been linked to later cancer risk in several organs, for example testis.    Early-life infections, likely in combination with immunogenic factors, have been associated with several adult malignancies. Infections by human papilloma viruses (HPV), which are usually acquired during teenage and young adult years, causes almost all invasive cervical cancer cases worldwide following a decades-long process.    A single acute exposure to radiation to those who were in utero or in early childhood at the time of the atomic bombings of Hiroshima and Nagasaki resulted in significantly elevated risk of malignancies decades later.    Animal studies have also provided support to link early-life exposures with cancer development. The Agouti mouse model was used to demonstrate that maternal diet affects epigenetic modifications and phenotypic changes in the off-spring that are potentially linked to cancer.                NIH Efforts    To explore the links between early life factors and cancer development and to explore ways to strategically support cancer research focused on early life factors and events a series of workshops were held at the National Cancer Institute (NCI) and other agencies. For example, in 2011, the NCI convened an Expert Panel Workshop on Early-Life Events and Cancer.  A few months after the NCI's Expert Panel Workshop, CDC, in collaboration with NCI staff organized a workshop focused on Identifying Opportunities for Cancer Prevention During Preadolescence and Adolescence .  In 2012, NCI organized the Trends in 21st Century Epidemiology Workshop and of the eight thematic recommendations proposed, three were relevant to the advancement of research focused on early-life factors  In addition, the Interagency Breast Cancer and Environment Research Coordinating Committee, noted in a set of recommendations (Feb. 2013) that &ldquo;research must evaluate the impact of multiple risk factors and periods when the breast may be most susceptible to exposures.&rdquo;    Scope of this FOA    Studies proposed in response to this announcement will focus on human studies, but may incorporate supporting animal models, especially in elucidating mechanisms relevant in humans. Human studies can be new, but applicants are encouraged to take advantage of existing resources such as from case-control and prospective studies, including birth cohort studies, and databases to utilize data and biological specimens to test hypotheses.    The establishment of new cohorts is not appropriate for this announcement; nor will the funding of infrastructure for follow-up visits of an existing cohort be allowed. However, prospective cohort studies that are ongoing, but have not completed enrollment, could also be used. This announcement will not fund the originally-planned cohort but could, for example, fund ancillary studies to the parent studies.    In general, applications that would be appropriate for this FOA may be include or incorporate:                Data and biological specimens relevant to early-life exposures and events such maternal and paternal exposures (pre-pregnancy measures), and exposures and events in utero, birth and infancy, puberty, adolescence, and young adult years; data on pre-pregnancy measures in the mother (and, if available, in the father) would also be desirable.    Exposure data such as diet, infections, medications, chemical and physical factors in the environment, or events such as puberty, adolescence, or genetic alterations, and exploration of mechanisms such as epigenetics, metabolism, immunity, and inflammation, or DNA damage/repair capacity are appropriate. Biomarkers should come from analysis of stored or readily collectable samples during early-life, including from the mother or father where applicable. Appropriate samples include blood, specific blood cells, cord blood, placenta, plasma, serum, saliva, urine or stool.    Links between early-life exposures and events in certain populations, such as underrepresented minorities, exploring disproportionate exposures and different levels of cancer risk are also encouraged.                Applications to this FOA can target any type of cancer. Most of the relevant existing epidemiology studies have focused on breast cancer and as a result, large gaps in knowledge are evident, not only in the epidemiology, but also in the understanding of biological underpinnings.    Research areas may include, but are not limited to, the following topics:                Early-life infections and later cancer;    Early-life diagnostic exposures such radiation and cancer;    Early-life medication use history and cancer;    Early life exposures to cigarettes/alcohol and cancer;    Early-life gut microbiome and cancer;    Pubertal, adolescence, and young adult exposures and cancer risk;    Early-life diet, physical activity, chemical exposures, and obesity/adiposity characteristics and cancer;    Mechanisms of early-life factors in cancer development.                Participation in NCI's Early Life Factors and Cancer Meetings    The PD(s)/PI(s) for the overall grant should plan to attend an NCI-sponsored two-day meeting generally held every second year in the Washington, D.C. metropolitan area. Funds to pay for this travel should be included in the budget request. The meeting will provide an opportunity for all investigators funded through this FOA to communicate, discuss the progress of their research, exchange ideas, share resources, foster collaborations, and provide input and advice to NCI program staff. ; Award Information        Funding Instrument        Grant: A support mechanism providing money, property, or both to an eligible entity to carry out an approved project or activity.                Application Types Allowed        New Resubmission    The OER Glossary and the SF424 (R&amp;R) Application Guide provide details on these application types.                Clinical Trial?        Not Allowed: Only accepting applications that do not propose clinical trials.    Need help determining whether you are doing a clinical trial?                Funds Available and Anticipated Number of Awards        The number of awards is contingent upon NIH appropriations and the submission of a sufficient number of meritorious applications.                Award Budget         Direct costs are limited to $100,000 direct costs over the 2-year period, with no more than $50,000 in direct costs allowed in a single year.                Award Project Period        The maximum project period is 2 years.         ; Eligible Applicants    Eligible Organizations    Higher Education Institutions                Public/State Controlled Institutions of Higher Education    Private Institutions of Higher Education                The following types of Higher Education Institutions are always encouraged to apply for NIH support as Public or Private Institutions of Higher Education:                Hispanic-serving Institutions    Historically Black Colleges and Universities (HBCUs)    Tribally Controlled Colleges and Universities (TCCUs)    Alaska Native and Native Hawaiian Serving Institutions    Asian American Native American Pacific Islander Serving Institutions (AANAPISIs)                Nonprofits Other Than Institutions of Higher Education                Nonprofits with 501(c)(3) IRS Status (Other than Institutions of Higher Education)    Nonprofits without 501(c)(3) IRS Status (Other than Institutions of Higher Education)                For-Profit Organizations                Small Businesses    For-Profit Organizations (Other than Small Businesses)                Governments                State Governments    County Governments    City or Township Governments    Special District Governments    Indian/Native American Tribal Governments (Federally Recognized)    Indian/Native American Tribal Governments (Other than Federally Recognized)    Eligible Agencies of the Federal Government    U.S. Territory or Possession                Other                Independent School Districts    Public Housing Authorities/Indian Housing Authorities    Native American Tribal Organizations (other than Federally recognized tribal governments)    Faith-based or Community-based Organizations    Regional Organizations    Non-domestic (non-U.S.) Entities (Foreign Institutions)                Foreign Institutions    Non-domestic (non-U.S.) Entities (Foreign Institutions) are  eligible to apply.Non-domestic (non-U.S.) components of U.S. Organizations are  eligible to apply.Foreign components, as defined in the NIH Grants Policy Statement, are  allowed.\",\n",
              "        'Research on Promotion Of Good Mental Health And The Prevention Or Treatment Of Mental Ill Health Across The Whole Life Course Opportunity Background                                 Mental ill health is the largest single cause of disability in the UK and represents around 28% of the national disease burden. It is the nation&rsquo;s leading cause of sickness absence, accounting for 70 million sick days in 2007 and also costs the UK economy &pound;70-&pound;100 billion per year; 4.5% of Gross Domestic Product (Chief Medical Officer&rsquo;s report, 2014 annual report on Public Mental Health). According to the CMO&rsquo;s report, there is a very significant overall treatment gap in mental healthcare in England, with about 75% of people with mental ill health receiving no treatment at all as well as a large &lsquo;premature mortality gap&rsquo;: people with mental ill health die on average 15-20 years earlier than those without, often from avoidable causes.                             ',\n",
              "        \"Western Health: Western Health was formed in July 2000 following the restructure of health care networks across metropolitan Melbourne and operates under the guidance of The Hon Bronwyn Pike, Minister for Health. Western Health offers a comprehensive range of health and related services to Melbourne's west. More than 4,000 people work for Western Health, providing services for a population of 567,640 people covering a catchment area of 1,335 square kilometres. Western Health cares for its community through Sunshine Hospital, The Williamstown Hospital, Western Hospital (Footscray), DASWest Drug &amp; Alcohol Services, and sub acute and residential services that include Hazeldean Nursing Home and Reg Geary House. Western Health provides emergency medicine, general medicine, surgery, aged care and rehabilitation, paediatric (children), obstetric (maternity) and gynaecology (women's reproductive health) services. NorthWestern Mental Health, a clinical division of Melbourne Health, operates in partnership with Western Health to deliver a comprehensive range of specialist, community and hospital-based mental health services. Adult services are provided at Sunshine Hospital, with youth services provided at Western Hospital. The North West Dialysis Service provides a range of services for patients with chronic renal failure through service centres located at Sunshine Hospital and The Williamstown Hospital. The primary catchment of Western Health as defined by the Department of Human Services covers Brimbank, Hobsons Bay, Maribyrnong and Melton local government areas, as well as Hume (Sunbury) and Moonee Valley (West). Wyndham is a secondary catchment area. DASWest service provision covers the Melbourne local government area, the Barwon and Grampian regions in rural Victoria. Wide cultural diversity is a particular feature of the people who live and work in this catchment. Amongst the resident population, approximately 33% living in the Western Health catchment are from non-English speaking backgrounds. The most commonly requested interpreting services are Vietnamese, Greek, Italian, Cantonese, Macedonian, Croatian, Serbian, Arabic and Spanish.\",\n",
              "        'Diabetes Care Capacity Building',\n",
              "        'Provision of Services for HIV Prevention'], dtype=object))"
            ]
          },
          "metadata": {},
          "execution_count": 46
        }
      ]
    },
    {
      "cell_type": "code",
      "source": [
        "# for training set\n",
        "train_token_type_data = tf.data.Dataset.from_tensor_slices((train_sentences, # train token\n",
        "                                                            train_type_one_hot)) # train type\n",
        "train_token_type_labels = tf.data.Dataset.from_tensor_slices(train_labels_one_hot) # train labels\n",
        "\n",
        "train_token_type_dataset = tf.data.Dataset.zip((train_token_type_data, train_token_type_labels)) # combine data and labels\n",
        "train_token_type_dataset = train_token_type_dataset.batch(32).prefetch(tf.data.AUTOTUNE) # turn into batches and prefetch"
      ],
      "metadata": {
        "id": "H0-t4Kq9IN-Z"
      },
      "execution_count": null,
      "outputs": []
    },
    {
      "cell_type": "code",
      "source": [
        "# for test set\n",
        "test_token_type_data = tf.data.Dataset.from_tensor_slices((test_sentences, # test_token\n",
        "                                                           test_type_one_hot)) # test_type\n",
        "test_token_type_labels = tf.data.Dataset.from_tensor_slices(test_labels_one_hot) # test labels\n",
        "\n",
        "test_token_type_dataset = tf.data.Dataset.zip((test_token_type_data, test_token_type_labels))# combine data and labels\n",
        "test_token_type_dataset = test_token_type_dataset.batch(32).prefetch(tf.data.AUTOTUNE) # turn into batches and prefetch"
      ],
      "metadata": {
        "id": "2NUmg2oQJ3Ci"
      },
      "execution_count": null,
      "outputs": []
    },
    {
      "cell_type": "markdown",
      "source": [
        "## Fit the model"
      ],
      "metadata": {
        "id": "fY5fFiAALe5x"
      }
    },
    {
      "cell_type": "code",
      "source": [
        "history = model.fit(train_token_type_dataset,\n",
        "                    steps_per_epoch = len(train_token_type_dataset),\n",
        "                    epochs = 5,\n",
        "                    validation_data = test_token_type_dataset,\n",
        "                    validation_steps = int(0.1 * len(test_token_type_dataset)))"
      ],
      "metadata": {
        "colab": {
          "base_uri": "https://localhost:8080/"
        },
        "id": "OCcws-P-LgGm",
        "outputId": "76abc629-4106-4f35-af3d-20651bfeb266"
      },
      "execution_count": null,
      "outputs": [
        {
          "output_type": "stream",
          "name": "stdout",
          "text": [
            "Epoch 1/5\n",
            "75/75 [==============================] - 7s 98ms/step - loss: 9.1628 - accuracy: 0.1866 - val_loss: 9.2905 - val_accuracy: 0.1875\n",
            "Epoch 2/5\n",
            "75/75 [==============================] - 7s 94ms/step - loss: 10.3853 - accuracy: 0.1649 - val_loss: 8.1913 - val_accuracy: 0.1250\n",
            "Epoch 3/5\n",
            "75/75 [==============================] - 6s 85ms/step - loss: 11.1950 - accuracy: 0.1644 - val_loss: 9.8532 - val_accuracy: 0.1875\n",
            "Epoch 4/5\n",
            "75/75 [==============================] - 7s 97ms/step - loss: 12.5836 - accuracy: 0.1636 - val_loss: 9.9025 - val_accuracy: 0.0938\n",
            "Epoch 5/5\n",
            "75/75 [==============================] - 7s 99ms/step - loss: 13.4454 - accuracy: 0.1603 - val_loss: 17.6208 - val_accuracy: 0.0312\n"
          ]
        }
      ]
    }
  ]
}