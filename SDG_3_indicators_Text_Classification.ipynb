{
  "nbformat": 4,
  "nbformat_minor": 0,
  "metadata": {
    "colab": {
      "provenance": []
    },
    "kernelspec": {
      "name": "python3",
      "display_name": "Python 3"
    },
    "language_info": {
      "name": "python"
    }
  },
  "cells": [
    {
      "cell_type": "markdown",
      "source": [
        "## Get the data"
      ],
      "metadata": {
        "id": "iHeG_NH2HZgI"
      }
    },
    {
      "cell_type": "code",
      "execution_count": null,
      "metadata": {
        "id": "FusWi3xvofmg",
        "colab": {
          "base_uri": "https://localhost:8080/",
          "height": 401
        },
        "outputId": "e24c078d-27ec-47bc-a4be-0e313e9010a6"
      },
      "outputs": [
        {
          "output_type": "execute_result",
          "data": {
            "text/plain": [
              "   Unique ID          Type                                               Text  \\\n",
              "0    12555.0         Grant  Centers of Biomedical Research Excellence (COB...   \n",
              "1    14108.0         Grant  Research on Regenerative Medicine Introduction...   \n",
              "2    23168.0  Organization  Catholic Health Association of India (CHAI): T...   \n",
              "3   219512.0      Contract       Quality Improvement Initiatives for Diabetes   \n",
              "4   274093.0        Tender  Provision of Thalassemia Drugs and Disposables...   \n",
              "\n",
              "   3.1.1  3.1.2  3.2.1  3.2.2  3.3.1  3.3.2  3.3.3  ...  3.8.2  3.9.1  3.9.2  \\\n",
              "0      0      0      0      0      0      0      0  ...      0      0      0   \n",
              "1      0      0      0      0      0      0      0  ...      0      0      0   \n",
              "2      0      0      0      0      0      0      0  ...      1      0      0   \n",
              "3      0      0      0      0      0      0      0  ...      0      0      0   \n",
              "4      0      0      0      0      0      0      0  ...      0      0      0   \n",
              "\n",
              "   3.9.3  3.a.1  3.b.1  3.b.2  3.b.3  3.c.1  3.d.1  \n",
              "0      0      0      0      1      0      1      0  \n",
              "1      0      0      0      1      0      0      0  \n",
              "2      0      0      0      0      1      0      1  \n",
              "3      0      0      0      0      0      0      0  \n",
              "4      0      0      0      0      0      0      0  \n",
              "\n",
              "[5 rows x 30 columns]"
            ],
            "text/html": [
              "\n",
              "\n",
              "  <div id=\"df-c3fd3c1a-235d-4d94-bb73-3aa6d01232ca\">\n",
              "    <div class=\"colab-df-container\">\n",
              "      <div>\n",
              "<style scoped>\n",
              "    .dataframe tbody tr th:only-of-type {\n",
              "        vertical-align: middle;\n",
              "    }\n",
              "\n",
              "    .dataframe tbody tr th {\n",
              "        vertical-align: top;\n",
              "    }\n",
              "\n",
              "    .dataframe thead th {\n",
              "        text-align: right;\n",
              "    }\n",
              "</style>\n",
              "<table border=\"1\" class=\"dataframe\">\n",
              "  <thead>\n",
              "    <tr style=\"text-align: right;\">\n",
              "      <th></th>\n",
              "      <th>Unique ID</th>\n",
              "      <th>Type</th>\n",
              "      <th>Text</th>\n",
              "      <th>3.1.1</th>\n",
              "      <th>3.1.2</th>\n",
              "      <th>3.2.1</th>\n",
              "      <th>3.2.2</th>\n",
              "      <th>3.3.1</th>\n",
              "      <th>3.3.2</th>\n",
              "      <th>3.3.3</th>\n",
              "      <th>...</th>\n",
              "      <th>3.8.2</th>\n",
              "      <th>3.9.1</th>\n",
              "      <th>3.9.2</th>\n",
              "      <th>3.9.3</th>\n",
              "      <th>3.a.1</th>\n",
              "      <th>3.b.1</th>\n",
              "      <th>3.b.2</th>\n",
              "      <th>3.b.3</th>\n",
              "      <th>3.c.1</th>\n",
              "      <th>3.d.1</th>\n",
              "    </tr>\n",
              "  </thead>\n",
              "  <tbody>\n",
              "    <tr>\n",
              "      <th>0</th>\n",
              "      <td>12555.0</td>\n",
              "      <td>Grant</td>\n",
              "      <td>Centers of Biomedical Research Excellence (COB...</td>\n",
              "      <td>0</td>\n",
              "      <td>0</td>\n",
              "      <td>0</td>\n",
              "      <td>0</td>\n",
              "      <td>0</td>\n",
              "      <td>0</td>\n",
              "      <td>0</td>\n",
              "      <td>...</td>\n",
              "      <td>0</td>\n",
              "      <td>0</td>\n",
              "      <td>0</td>\n",
              "      <td>0</td>\n",
              "      <td>0</td>\n",
              "      <td>0</td>\n",
              "      <td>1</td>\n",
              "      <td>0</td>\n",
              "      <td>1</td>\n",
              "      <td>0</td>\n",
              "    </tr>\n",
              "    <tr>\n",
              "      <th>1</th>\n",
              "      <td>14108.0</td>\n",
              "      <td>Grant</td>\n",
              "      <td>Research on Regenerative Medicine Introduction...</td>\n",
              "      <td>0</td>\n",
              "      <td>0</td>\n",
              "      <td>0</td>\n",
              "      <td>0</td>\n",
              "      <td>0</td>\n",
              "      <td>0</td>\n",
              "      <td>0</td>\n",
              "      <td>...</td>\n",
              "      <td>0</td>\n",
              "      <td>0</td>\n",
              "      <td>0</td>\n",
              "      <td>0</td>\n",
              "      <td>0</td>\n",
              "      <td>0</td>\n",
              "      <td>1</td>\n",
              "      <td>0</td>\n",
              "      <td>0</td>\n",
              "      <td>0</td>\n",
              "    </tr>\n",
              "    <tr>\n",
              "      <th>2</th>\n",
              "      <td>23168.0</td>\n",
              "      <td>Organization</td>\n",
              "      <td>Catholic Health Association of India (CHAI): T...</td>\n",
              "      <td>0</td>\n",
              "      <td>0</td>\n",
              "      <td>0</td>\n",
              "      <td>0</td>\n",
              "      <td>0</td>\n",
              "      <td>0</td>\n",
              "      <td>0</td>\n",
              "      <td>...</td>\n",
              "      <td>1</td>\n",
              "      <td>0</td>\n",
              "      <td>0</td>\n",
              "      <td>0</td>\n",
              "      <td>0</td>\n",
              "      <td>0</td>\n",
              "      <td>0</td>\n",
              "      <td>1</td>\n",
              "      <td>0</td>\n",
              "      <td>1</td>\n",
              "    </tr>\n",
              "    <tr>\n",
              "      <th>3</th>\n",
              "      <td>219512.0</td>\n",
              "      <td>Contract</td>\n",
              "      <td>Quality Improvement Initiatives for Diabetes</td>\n",
              "      <td>0</td>\n",
              "      <td>0</td>\n",
              "      <td>0</td>\n",
              "      <td>0</td>\n",
              "      <td>0</td>\n",
              "      <td>0</td>\n",
              "      <td>0</td>\n",
              "      <td>...</td>\n",
              "      <td>0</td>\n",
              "      <td>0</td>\n",
              "      <td>0</td>\n",
              "      <td>0</td>\n",
              "      <td>0</td>\n",
              "      <td>0</td>\n",
              "      <td>0</td>\n",
              "      <td>0</td>\n",
              "      <td>0</td>\n",
              "      <td>0</td>\n",
              "    </tr>\n",
              "    <tr>\n",
              "      <th>4</th>\n",
              "      <td>274093.0</td>\n",
              "      <td>Tender</td>\n",
              "      <td>Provision of Thalassemia Drugs and Disposables...</td>\n",
              "      <td>0</td>\n",
              "      <td>0</td>\n",
              "      <td>0</td>\n",
              "      <td>0</td>\n",
              "      <td>0</td>\n",
              "      <td>0</td>\n",
              "      <td>0</td>\n",
              "      <td>...</td>\n",
              "      <td>0</td>\n",
              "      <td>0</td>\n",
              "      <td>0</td>\n",
              "      <td>0</td>\n",
              "      <td>0</td>\n",
              "      <td>0</td>\n",
              "      <td>0</td>\n",
              "      <td>0</td>\n",
              "      <td>0</td>\n",
              "      <td>0</td>\n",
              "    </tr>\n",
              "  </tbody>\n",
              "</table>\n",
              "<p>5 rows × 30 columns</p>\n",
              "</div>\n",
              "      <button class=\"colab-df-convert\" onclick=\"convertToInteractive('df-c3fd3c1a-235d-4d94-bb73-3aa6d01232ca')\"\n",
              "              title=\"Convert this dataframe to an interactive table.\"\n",
              "              style=\"display:none;\">\n",
              "\n",
              "  <svg xmlns=\"http://www.w3.org/2000/svg\" height=\"24px\"viewBox=\"0 0 24 24\"\n",
              "       width=\"24px\">\n",
              "    <path d=\"M0 0h24v24H0V0z\" fill=\"none\"/>\n",
              "    <path d=\"M18.56 5.44l.94 2.06.94-2.06 2.06-.94-2.06-.94-.94-2.06-.94 2.06-2.06.94zm-11 1L8.5 8.5l.94-2.06 2.06-.94-2.06-.94L8.5 2.5l-.94 2.06-2.06.94zm10 10l.94 2.06.94-2.06 2.06-.94-2.06-.94-.94-2.06-.94 2.06-2.06.94z\"/><path d=\"M17.41 7.96l-1.37-1.37c-.4-.4-.92-.59-1.43-.59-.52 0-1.04.2-1.43.59L10.3 9.45l-7.72 7.72c-.78.78-.78 2.05 0 2.83L4 21.41c.39.39.9.59 1.41.59.51 0 1.02-.2 1.41-.59l7.78-7.78 2.81-2.81c.8-.78.8-2.07 0-2.86zM5.41 20L4 18.59l7.72-7.72 1.47 1.35L5.41 20z\"/>\n",
              "  </svg>\n",
              "      </button>\n",
              "\n",
              "\n",
              "\n",
              "    <div id=\"df-23322cb7-4ecf-45aa-82d3-306af037e09b\">\n",
              "      <button class=\"colab-df-quickchart\" onclick=\"quickchart('df-23322cb7-4ecf-45aa-82d3-306af037e09b')\"\n",
              "              title=\"Suggest charts.\"\n",
              "              style=\"display:none;\">\n",
              "\n",
              "<svg xmlns=\"http://www.w3.org/2000/svg\" height=\"24px\"viewBox=\"0 0 24 24\"\n",
              "     width=\"24px\">\n",
              "    <g>\n",
              "        <path d=\"M19 3H5c-1.1 0-2 .9-2 2v14c0 1.1.9 2 2 2h14c1.1 0 2-.9 2-2V5c0-1.1-.9-2-2-2zM9 17H7v-7h2v7zm4 0h-2V7h2v10zm4 0h-2v-4h2v4z\"/>\n",
              "    </g>\n",
              "</svg>\n",
              "      </button>\n",
              "    </div>\n",
              "\n",
              "<style>\n",
              "  .colab-df-quickchart {\n",
              "    background-color: #E8F0FE;\n",
              "    border: none;\n",
              "    border-radius: 50%;\n",
              "    cursor: pointer;\n",
              "    display: none;\n",
              "    fill: #1967D2;\n",
              "    height: 32px;\n",
              "    padding: 0 0 0 0;\n",
              "    width: 32px;\n",
              "  }\n",
              "\n",
              "  .colab-df-quickchart:hover {\n",
              "    background-color: #E2EBFA;\n",
              "    box-shadow: 0px 1px 2px rgba(60, 64, 67, 0.3), 0px 1px 3px 1px rgba(60, 64, 67, 0.15);\n",
              "    fill: #174EA6;\n",
              "  }\n",
              "\n",
              "  [theme=dark] .colab-df-quickchart {\n",
              "    background-color: #3B4455;\n",
              "    fill: #D2E3FC;\n",
              "  }\n",
              "\n",
              "  [theme=dark] .colab-df-quickchart:hover {\n",
              "    background-color: #434B5C;\n",
              "    box-shadow: 0px 1px 3px 1px rgba(0, 0, 0, 0.15);\n",
              "    filter: drop-shadow(0px 1px 2px rgba(0, 0, 0, 0.3));\n",
              "    fill: #FFFFFF;\n",
              "  }\n",
              "</style>\n",
              "\n",
              "    <script>\n",
              "      async function quickchart(key) {\n",
              "        const containerElement = document.querySelector('#' + key);\n",
              "        const charts = await google.colab.kernel.invokeFunction(\n",
              "            'suggestCharts', [key], {});\n",
              "      }\n",
              "    </script>\n",
              "\n",
              "      <script>\n",
              "\n",
              "function displayQuickchartButton(domScope) {\n",
              "  let quickchartButtonEl =\n",
              "    domScope.querySelector('#df-23322cb7-4ecf-45aa-82d3-306af037e09b button.colab-df-quickchart');\n",
              "  quickchartButtonEl.style.display =\n",
              "    google.colab.kernel.accessAllowed ? 'block' : 'none';\n",
              "}\n",
              "\n",
              "        displayQuickchartButton(document);\n",
              "      </script>\n",
              "      <style>\n",
              "    .colab-df-container {\n",
              "      display:flex;\n",
              "      flex-wrap:wrap;\n",
              "      gap: 12px;\n",
              "    }\n",
              "\n",
              "    .colab-df-convert {\n",
              "      background-color: #E8F0FE;\n",
              "      border: none;\n",
              "      border-radius: 50%;\n",
              "      cursor: pointer;\n",
              "      display: none;\n",
              "      fill: #1967D2;\n",
              "      height: 32px;\n",
              "      padding: 0 0 0 0;\n",
              "      width: 32px;\n",
              "    }\n",
              "\n",
              "    .colab-df-convert:hover {\n",
              "      background-color: #E2EBFA;\n",
              "      box-shadow: 0px 1px 2px rgba(60, 64, 67, 0.3), 0px 1px 3px 1px rgba(60, 64, 67, 0.15);\n",
              "      fill: #174EA6;\n",
              "    }\n",
              "\n",
              "    [theme=dark] .colab-df-convert {\n",
              "      background-color: #3B4455;\n",
              "      fill: #D2E3FC;\n",
              "    }\n",
              "\n",
              "    [theme=dark] .colab-df-convert:hover {\n",
              "      background-color: #434B5C;\n",
              "      box-shadow: 0px 1px 3px 1px rgba(0, 0, 0, 0.15);\n",
              "      filter: drop-shadow(0px 1px 2px rgba(0, 0, 0, 0.3));\n",
              "      fill: #FFFFFF;\n",
              "    }\n",
              "  </style>\n",
              "\n",
              "      <script>\n",
              "        const buttonEl =\n",
              "          document.querySelector('#df-c3fd3c1a-235d-4d94-bb73-3aa6d01232ca button.colab-df-convert');\n",
              "        buttonEl.style.display =\n",
              "          google.colab.kernel.accessAllowed ? 'block' : 'none';\n",
              "\n",
              "        async function convertToInteractive(key) {\n",
              "          const element = document.querySelector('#df-c3fd3c1a-235d-4d94-bb73-3aa6d01232ca');\n",
              "          const dataTable =\n",
              "            await google.colab.kernel.invokeFunction('convertToInteractive',\n",
              "                                                     [key], {});\n",
              "          if (!dataTable) return;\n",
              "\n",
              "          const docLinkHtml = 'Like what you see? Visit the ' +\n",
              "            '<a target=\"_blank\" href=https://colab.research.google.com/notebooks/data_table.ipynb>data table notebook</a>'\n",
              "            + ' to learn more about interactive tables.';\n",
              "          element.innerHTML = '';\n",
              "          dataTable['output_type'] = 'display_data';\n",
              "          await google.colab.output.renderOutput(dataTable, element);\n",
              "          const docLink = document.createElement('div');\n",
              "          docLink.innerHTML = docLinkHtml;\n",
              "          element.appendChild(docLink);\n",
              "        }\n",
              "      </script>\n",
              "    </div>\n",
              "  </div>\n"
            ]
          },
          "metadata": {},
          "execution_count": 198
        }
      ],
      "source": [
        "import pandas as pd\n",
        "\n",
        "data = pd.read_csv(\"/content/train_clean.csv\")\n",
        "data.head()"
      ]
    },
    {
      "cell_type": "markdown",
      "source": [
        "## Labels distribution"
      ],
      "metadata": {
        "id": "MwwTfEapsvRL"
      }
    },
    {
      "cell_type": "code",
      "source": [
        "import matplotlib.pyplot as plt\n",
        "\n",
        "text_labels = data.iloc[:, 3:len(data.columns)]\n",
        "labels_distribution = text_labels.sum()\n",
        "\n",
        "plt.figure(figsize=(10,7))\n",
        "labels_distribution.plot.bar()"
      ],
      "metadata": {
        "colab": {
          "base_uri": "https://localhost:8080/",
          "height": 638
        },
        "id": "wgVd2xZarUi2",
        "outputId": "ab40e721-4ddf-44b0-b6c8-211b2bd498f4"
      },
      "execution_count": null,
      "outputs": [
        {
          "output_type": "execute_result",
          "data": {
            "text/plain": [
              "<Axes: >"
            ]
          },
          "metadata": {},
          "execution_count": 199
        },
        {
          "output_type": "display_data",
          "data": {
            "text/plain": [
              "<Figure size 1000x700 with 1 Axes>"
            ],
            "image/png": "[encoded data removed]"
          },
          "metadata": {}
        }
      ]
    },
    {
      "cell_type": "code",
      "source": [
        "labels_distribution.index, labels_distribution.values"
      ],
      "metadata": {
        "colab": {
          "base_uri": "https://localhost:8080/"
        },
        "id": "nxdN3JV6v1gs",
        "outputId": "a0c92615-3a64-4703-e41c-b0e47619cde9"
      },
      "execution_count": null,
      "outputs": [
        {
          "output_type": "execute_result",
          "data": {
            "text/plain": [
              "(Index(['3.1.1', '3.1.2', '3.2.1', '3.2.2', '3.3.1', '3.3.2', '3.3.3', '3.3.4',\n",
              "        '3.3.5', '3.4.1', '3.4.2', '3.5.1', '3.5.2', '3.6.1', '3.7.1', '3.7.2',\n",
              "        '3.8.1', '3.8.2', '3.9.1', '3.9.2', '3.9.3', '3.a.1', '3.b.1', '3.b.2',\n",
              "        '3.b.3', '3.c.1', '3.d.1'],\n",
              "       dtype='object'),\n",
              " array([ 218,   96,  249,  138,  371,  174,  157,   53,  156,  483,   61,\n",
              "         123,   68,   31,  189,  165,  529,  161,   55,  217,   63,   76,\n",
              "         185, 1040,  394,  232,  217]))"
            ]
          },
          "metadata": {},
          "execution_count": 200
        }
      ]
    },
    {
      "cell_type": "markdown",
      "source": [
        "## the number of labels for each text"
      ],
      "metadata": {
        "id": "_ohGqKZPvNdP"
      }
    },
    {
      "cell_type": "code",
      "source": [
        "import numpy as np\n",
        "\n",
        "y = data.iloc[:, 3:len(data.columns)].to_numpy()\n",
        "count_labels = [np.count_nonzero(y[i] == 1) for i in range(len(y))]"
      ],
      "metadata": {
        "id": "9byTfyT13vmo"
      },
      "execution_count": null,
      "outputs": []
    },
    {
      "cell_type": "code",
      "source": [
        "count_labels[:10]"
      ],
      "metadata": {
        "colab": {
          "base_uri": "https://localhost:8080/"
        },
        "id": "7JF3dA2Z1z-n",
        "outputId": "1fb64eac-3a4f-4af1-ed75-bd7f9d446314"
      },
      "execution_count": null,
      "outputs": [
        {
          "output_type": "execute_result",
          "data": {
            "text/plain": [
              "[2, 1, 4, 1, 2, 2, 3, 2, 1, 2]"
            ]
          },
          "metadata": {},
          "execution_count": 202
        }
      ]
    },
    {
      "cell_type": "code",
      "source": [
        "data[\"total_labels\"] = count_labels\n",
        "data[\"total_labels\"].value_counts().plot(kind='bar')"
      ],
      "metadata": {
        "colab": {
          "base_uri": "https://localhost:8080/",
          "height": 451
        },
        "id": "Ddr6hMjA5N3V",
        "outputId": "c10cc21a-0489-47b4-8357-520e9e7c62de"
      },
      "execution_count": null,
      "outputs": [
        {
          "output_type": "execute_result",
          "data": {
            "text/plain": [
              "<Axes: >"
            ]
          },
          "metadata": {},
          "execution_count": 203
        },
        {
          "output_type": "display_data",
          "data": {
            "text/plain": [
              "<Figure size 640x480 with 1 Axes>"
            ],
            "image/png": "[encoded data removed]"
          },
          "metadata": {}
        }
      ]
    },
    {
      "cell_type": "code",
      "source": [
        "# check total words in each text\n",
        "data[\"total_words\"] = data[\"Text\"].apply(lambda n: len(n.split()))\n",
        "data[\"total_words\"].head(10)"
      ],
      "metadata": {
        "colab": {
          "base_uri": "https://localhost:8080/"
        },
        "id": "W4LvmQy2UQYF",
        "outputId": "1f770221-a0b1-4505-b39f-dde6062f17e8"
      },
      "execution_count": null,
      "outputs": [
        {
          "output_type": "execute_result",
          "data": {
            "text/plain": [
              "0    398\n",
              "1    305\n",
              "2    304\n",
              "3      5\n",
              "4    514\n",
              "5    470\n",
              "6    307\n",
              "7     12\n",
              "8    217\n",
              "9    381\n",
              "Name: total_words, dtype: int64"
            ]
          },
          "metadata": {},
          "execution_count": 204
        }
      ]
    },
    {
      "cell_type": "code",
      "source": [
        "# get the average of total words\n",
        "data[\"total_words\"].max()"
      ],
      "metadata": {
        "colab": {
          "base_uri": "https://localhost:8080/"
        },
        "id": "YSimEGR_UzQN",
        "outputId": "2efb7942-e619-4d1e-e4fd-1ee00e3ff10e"
      },
      "execution_count": null,
      "outputs": [
        {
          "output_type": "execute_result",
          "data": {
            "text/plain": [
              "3753"
            ]
          },
          "metadata": {},
          "execution_count": 283
        }
      ]
    },
    {
      "cell_type": "markdown",
      "source": [
        "## Data Preprocessing"
      ],
      "metadata": {
        "id": "D1ambUxoHGry"
      }
    },
    {
      "cell_type": "code",
      "source": [
        "from sklearn.model_selection import train_test_split"
      ],
      "metadata": {
        "id": "puo9Jo2MHf2u"
      },
      "execution_count": null,
      "outputs": []
    },
    {
      "cell_type": "code",
      "source": [
        "train_sentences, val_sentences, train_labels, val_labels = train_test_split(data[\"Text\"].to_numpy(),\n",
        "                                                                            text_labels.to_numpy(),\n",
        "                                                                            test_size = 0.2)"
      ],
      "metadata": {
        "id": "BhAEc1j3HmAY"
      },
      "execution_count": null,
      "outputs": []
    },
    {
      "cell_type": "code",
      "source": [
        "len(train_sentences), len(val_sentences), len(train_labels), len(val_labels)"
      ],
      "metadata": {
        "colab": {
          "base_uri": "https://localhost:8080/"
        },
        "id": "zyGQw2i1IjWK",
        "outputId": "110c9a23-e23a-4174-c36e-f6b344380cb6"
      },
      "execution_count": null,
      "outputs": [
        {
          "output_type": "execute_result",
          "data": {
            "text/plain": [
              "(2396, 599, 2396, 599)"
            ]
          },
          "metadata": {},
          "execution_count": 208
        }
      ]
    },
    {
      "cell_type": "code",
      "source": [
        "train_sentences[0]"
      ],
      "metadata": {
        "colab": {
          "base_uri": "https://localhost:8080/",
          "height": 126
        },
        "id": "TSknms0bIcn-",
        "outputId": "0e0e37a3-9a5a-4138-e898-4a36ab4528b3"
      },
      "execution_count": null,
      "outputs": [
        {
          "output_type": "execute_result",
          "data": {
            "text/plain": [
              "'Health System Modernization (GPN); ; The Republic of Belarus has received financing in the amount of US$ 125 000 000 equivalent from the World Bank toward the cost of the Belarus Health System Modernization Project, and it intends to apply part of the proceeds to payments for goods, works, related services and consulting services to be procured under this project.; The project will include the following parts:    Part 1. Establishment of e-Health and Clinical Decision-support Systems        Integrated Health Management Information System:        Carrying out the following activities, inter alia:        the rehabilitation of selected Borrower&rsquo;s regional offices for housing IT-related infrastructure, including the preparation of the technical designs and the purchase of required equipment;    (i) the design and implementation of centralized e-health system for medical data exchange, including document registry and archive; (ii) the establishment of a medical information exchange procedures and governance with responsibilities of each healthcare institution clearly described; and (iii) the standardization of health care digital data and data exchange protocols;    the update and implementation of electronic medical records in selected hospitals and PHC facilities, through the acquisition and installation of hardware and software;    the review of the Borrower&rsquo;s legal and institutional framework on, inter alia, patient health data protection;    the carrying out of training activities on the e-health system referred to in Part 1.1 (b)(i) above; and    the design and implementation of patient satisfaction survey(s).        Clinical decision Support System for Quality Improvement:            Design and implementation of a clinical decision support IT system, including the provision of relevant training and purchase of required software and hardware.         Part 2. Improvement of Clinical Competencies of Health Care Providers in Non-communicable Disease Management    Carrying out the following activities, inter alia:        the review of the curriculum and development of unified training standards of selected health providers;    the development of a certification program of students/trainees&rsquo; skills;    the preparation of the technical designs for the works to be carried out under Part 2 (d) below;    (i) the construction of a high-tech simulation center in BelMAPO; and (ii) the rehabilitation/upgrading of skill laboratories in selected Borrower&rsquo;s medical universities and colleges; and (iii) the purchase of required equipment;    acquisition and installation of training software;    the design and implementation of technical assessment and satisfaction surveys for training beneficiaries; and    the carrying out of training activities.        Part 3. Modernization of Neonatal care at the Republican Center of Mother and Child    Modernization of the neonatal department at the RCMC through, inter alia:             the preparation of the technical designs for the works to be carried out under Part 3(b) below;    (i) the carrying out of the rehabilitation works, including the construction of a room dedicated to nursing and breast milk pumping; and (ii) the purchase of required equipment;    The provision of training to RCMC&rsquo;s medical staff; and    The development of quality improvement tools and procedures.             Part 4. Project Management, Monitoring and Evaluation    Carrying out the implementation, monitoring and evaluation of the Project, including: (a) the carrying out of the Project audits; (b) the carrying out of training activities; (c) the selection and hiring of financial management, procurement, disbursement/accounting and safeguards specialists and a civil construction engineer; (d) the financing of Operating Costs; and (e) the carrying out of households and medical facility feedback surveys.'"
            ],
            "application/vnd.google.colaboratory.intrinsic+json": {
              "type": "string"
            }
          },
          "metadata": {},
          "execution_count": 209
        }
      ]
    },
    {
      "cell_type": "code",
      "source": [
        "train_labels[0]"
      ],
      "metadata": {
        "colab": {
          "base_uri": "https://localhost:8080/"
        },
        "id": "yP59wqoNIgiR",
        "outputId": "d57ddaa6-4b5b-4c64-b94f-7f10c1a4e582"
      },
      "execution_count": null,
      "outputs": [
        {
          "output_type": "execute_result",
          "data": {
            "text/plain": [
              "array([0, 0, 0, 1, 1, 0, 0, 0, 0, 1, 0, 0, 0, 0, 0, 0, 1, 0, 0, 0, 0, 0,\n",
              "       0, 0, 0, 0, 1])"
            ]
          },
          "metadata": {},
          "execution_count": 210
        }
      ]
    },
    {
      "cell_type": "markdown",
      "source": [
        "## Converting text into numbers"
      ],
      "metadata": {
        "id": "YNheNJfWIw4H"
      }
    },
    {
      "cell_type": "markdown",
      "source": [
        "### Text vectorization (Tokenization)"
      ],
      "metadata": {
        "id": "dDTFmxgaIz3G"
      }
    },
    {
      "cell_type": "code",
      "source": [
        "import tensorflow as tf\n",
        "from tensorflow.keras.layers.experimental.preprocessing import TextVectorization\n",
        "\n",
        "# Setup text vectorization variables (again)\n",
        "max_vocab_length = 10000 # max number of words to have in our vocabulary\n",
        "max_length = 3800 # max length our sequences will be (e.g. how many words from a tweet does a model see?)\n",
        "\n",
        "text_vectorizer = TextVectorization(max_tokens = max_vocab_length,\n",
        "                                    output_mode = \"int\",\n",
        "                                    output_sequence_length = max_length)"
      ],
      "metadata": {
        "id": "fVWfzqrkI4qV"
      },
      "execution_count": null,
      "outputs": []
    },
    {
      "cell_type": "code",
      "source": [
        "# Fit the text vector to the training text\n",
        "text_vectorizer.adapt(train_sentences)"
      ],
      "metadata": {
        "id": "-EuYlFGrJhJp"
      },
      "execution_count": null,
      "outputs": []
    },
    {
      "cell_type": "code",
      "source": [
        "import random\n",
        "# create a sample sentence and tokenize it\n",
        "\n",
        "random_sentence = random.choice(train_sentences)\n",
        "\n",
        "print(f\"Original text:\\n {random_sentence}\\n\")\n",
        "print(f\"Vectorized version:\\n {text_vectorizer([random_sentence])}\")"
      ],
      "metadata": {
        "colab": {
          "base_uri": "https://localhost:8080/"
        },
        "id": "i0_V-lm7Jn4T",
        "outputId": "3c086fb6-11f9-452b-a2f2-631d2fa4a70d"
      },
      "execution_count": null,
      "outputs": [
        {
          "output_type": "stream",
          "name": "stdout",
          "text": [
            "Original text:\n",
            " Building Systems and Institutional Capacity to Achieve Virtual Elimination of Human Immunodeficiency Virus (HIV) Overview    The Government of Cambodia has made significant progress in addressing HIV/AIDS for the past 25 years. In 2013, Cambodia announced its intent to eliminate new HIV infections by achieving the 90-90-90 targets by 2020 and 95-95-95 (and fewer than 300 new HIV infections annually) by 2025 &ndash; coming close to achieving an AIDS Free Generation. As of December 2016, Cambodia had diagnosed approximately 83% of the estimated population of PLHIV, placed 97% of diagnosed PLHIV on antiretroviral treatment (ART), and documented viral load (VL) suppression on 81% of PLHIV on ART. The existing PEPFAR strategy has helped to drive this progress, particularly in ensuring that PLHIV are placed on ART, retained in care, and receive quality-assured VL testing.    The greatest barrier to reaching 95-95-95 in Cambodia is finding undiagnosed cases of HIV. The failure to find these individuals not only prevents achievement of the first 90 (or first 95), but also contributes to sustained HIV transmission. Conversely, more aggressive efforts to build sustainable systems for HIV case finding would allow Cambodia to reach the 95-95-95 goal in advance of 2025, potentially averting many hundreds of new infections and prolonging the lives of currently undiagnosed individuals. Through this NOFO, NCHADS will focus on two strategic outcomes intended to aggressively increase the pace of progress towards the overall goal of sustained elimination of new HIV infections. These outcomes include stronger national systems for 1) identifying the risk of HIV infection in at least 75% of newly diagnosed PLHIV and 2) improving HIV case finding and linkage to and retention in care.Finding the undiagnosed PLHIV, linking them to care, and making sure they are retained in care and virally suppressed is key to achieving the 90/90/90 goal in Cambodia.\n",
            "\n",
            "Vectorized version:\n",
            " [[536  99   3 ...   0   0   0]]\n"
          ]
        }
      ]
    },
    {
      "cell_type": "code",
      "source": [
        "# get unique words in the vocabulary\n",
        "words_in_vocab = text_vectorizer.get_vocabulary()\n",
        "\n",
        "top_5_words = words_in_vocab[:5]  # get the most common words\n",
        "bottom_5_words = words_in_vocab[-5:] # get the least common words\n",
        "\n",
        "print(f\"Number of words in vocab: {len(words_in_vocab)}\")\n",
        "print(f\"5 most common words in vocab: {top_5_words}\")\n",
        "print(f\"5 least common words in vocab: {bottom_5_words}\")"
      ],
      "metadata": {
        "colab": {
          "base_uri": "https://localhost:8080/"
        },
        "id": "oVsdPGT2Sjtf",
        "outputId": "dbe1fba3-2a30-476c-908d-2daa60045045"
      },
      "execution_count": null,
      "outputs": [
        {
          "output_type": "stream",
          "name": "stdout",
          "text": [
            "Number of words in vocab: 10000\n",
            "5 most common words in vocab: ['', '[UNK]', 'the', 'and', 'of']\n",
            "5 least common words in vocab: ['dar', 'dapivirine', 'dap', 'dangerous', 'danger']\n"
          ]
        }
      ]
    },
    {
      "cell_type": "markdown",
      "source": [
        "### Embedding"
      ],
      "metadata": {
        "id": "8OSmtfGlS9zr"
      }
    },
    {
      "cell_type": "code",
      "source": [
        "from tensorflow.keras import layers\n",
        "\n",
        "embedding = layers.Embedding(input_dim = max_vocab_length,\n",
        "                             output_dim = 128,\n",
        "                             embeddings_initializer = \"uniform\",\n",
        "                             input_length = max_length)\n",
        "embedding"
      ],
      "metadata": {
        "colab": {
          "base_uri": "https://localhost:8080/"
        },
        "id": "569v6yLIS_Mf",
        "outputId": "5dbde447-debd-4c5f-89a3-de9da725a1c5"
      },
      "execution_count": null,
      "outputs": [
        {
          "output_type": "execute_result",
          "data": {
            "text/plain": [
              "<keras.layers.core.embedding.Embedding at 0x7b1f8bc4da80>"
            ]
          },
          "metadata": {},
          "execution_count": 288
        }
      ]
    },
    {
      "cell_type": "code",
      "source": [
        "# embed the random sentence (turn it into dense vectors of fixed size)\n",
        "print(f\"Original text:\\n {random_sentence}\")\n",
        "sample_embed = embedding(text_vectorizer([random_sentence]))\n",
        "print(f\"\\nEmbedded Version:\")\n",
        "sample_embed"
      ],
      "metadata": {
        "colab": {
          "base_uri": "https://localhost:8080/"
        },
        "id": "hnsbRijNTbt7",
        "outputId": "447834d4-8048-40af-a872-413bf6a860e6"
      },
      "execution_count": null,
      "outputs": [
        {
          "output_type": "stream",
          "name": "stdout",
          "text": [
            "Original text:\n",
            " Building Systems and Institutional Capacity to Achieve Virtual Elimination of Human Immunodeficiency Virus (HIV) Overview    The Government of Cambodia has made significant progress in addressing HIV/AIDS for the past 25 years. In 2013, Cambodia announced its intent to eliminate new HIV infections by achieving the 90-90-90 targets by 2020 and 95-95-95 (and fewer than 300 new HIV infections annually) by 2025 &ndash; coming close to achieving an AIDS Free Generation. As of December 2016, Cambodia had diagnosed approximately 83% of the estimated population of PLHIV, placed 97% of diagnosed PLHIV on antiretroviral treatment (ART), and documented viral load (VL) suppression on 81% of PLHIV on ART. The existing PEPFAR strategy has helped to drive this progress, particularly in ensuring that PLHIV are placed on ART, retained in care, and receive quality-assured VL testing.    The greatest barrier to reaching 95-95-95 in Cambodia is finding undiagnosed cases of HIV. The failure to find these individuals not only prevents achievement of the first 90 (or first 95), but also contributes to sustained HIV transmission. Conversely, more aggressive efforts to build sustainable systems for HIV case finding would allow Cambodia to reach the 95-95-95 goal in advance of 2025, potentially averting many hundreds of new infections and prolonging the lives of currently undiagnosed individuals. Through this NOFO, NCHADS will focus on two strategic outcomes intended to aggressively increase the pace of progress towards the overall goal of sustained elimination of new HIV infections. These outcomes include stronger national systems for 1) identifying the risk of HIV infection in at least 75% of newly diagnosed PLHIV and 2) improving HIV case finding and linkage to and retention in care.Finding the undiagnosed PLHIV, linking them to care, and making sure they are retained in care and virally suppressed is key to achieving the 90/90/90 goal in Cambodia.\n",
            "\n",
            "Embedded Version:\n"
          ]
        },
        {
          "output_type": "execute_result",
          "data": {
            "text/plain": [
              "<tf.Tensor: shape=(1, 3800, 128), dtype=float32, numpy=\n",
              "array([[[-0.03764622, -0.04530909, -0.03447007, ...,  0.04312837,\n",
              "         -0.01280159,  0.00286818],\n",
              "        [-0.0498122 , -0.00915681,  0.0202495 , ..., -0.0131884 ,\n",
              "         -0.02197698, -0.0038722 ],\n",
              "        [-0.01372384, -0.00344708, -0.00310079, ...,  0.03535142,\n",
              "         -0.042721  , -0.02166333],\n",
              "        ...,\n",
              "        [ 0.00076681, -0.04256827, -0.00497036, ..., -0.0017774 ,\n",
              "          0.03071913, -0.03058634],\n",
              "        [ 0.00076681, -0.04256827, -0.00497036, ..., -0.0017774 ,\n",
              "          0.03071913, -0.03058634],\n",
              "        [ 0.00076681, -0.04256827, -0.00497036, ..., -0.0017774 ,\n",
              "          0.03071913, -0.03058634]]], dtype=float32)>"
            ]
          },
          "metadata": {},
          "execution_count": 289
        }
      ]
    },
    {
      "cell_type": "markdown",
      "source": [
        "### Creating learning rate reduction callback\n"
      ],
      "metadata": {
        "id": "hS7iOZ9iwO4P"
      }
    },
    {
      "cell_type": "code",
      "source": [
        "reduce_lr = tf.keras.callbacks.ReduceLROnPlateau(monitor = \"val_loss\",\n",
        "                                                factor = 0.2, # multiply the learning rate by 0.2 (reduce by 5x)\n",
        "                                                patience = 2,\n",
        "                                                verbose = 1,\n",
        "                                                min_lr = 1e-7)"
      ],
      "metadata": {
        "id": "m-97xjh9wJfU"
      },
      "execution_count": null,
      "outputs": []
    },
    {
      "cell_type": "markdown",
      "source": [
        "### Model 1"
      ],
      "metadata": {
        "id": "uU-M0gVVGFDg"
      }
    },
    {
      "cell_type": "code",
      "source": [
        "# build a model\n",
        "from tensorflow.keras import layers\n",
        "\n",
        "inputs = layers.Input(shape = (1,), dtype = \"string\")\n",
        "\n",
        "x = text_vectorizer(inputs)\n",
        "x = embedding(x)\n",
        "x = layers.Conv1D(filters = 64,\n",
        "                  kernel_size = 5,\n",
        "                  activation = \"relu\",\n",
        "                  padding = \"valid\")(x)\n",
        "x = layers.GlobalMaxPooling1D()(x)\n",
        "\n",
        "outputs = layers.Dense(27, activation = \"softmax\")(x)\n",
        "model_1 = tf.keras.Model(inputs, outputs, name = \"model_1_dense\")"
      ],
      "metadata": {
        "id": "vsH2cfIDGGxE"
      },
      "execution_count": 304,
      "outputs": []
    },
    {
      "cell_type": "code",
      "source": [
        "model_1.summary()"
      ],
      "metadata": {
        "colab": {
          "base_uri": "https://localhost:8080/"
        },
        "id": "AoGvqz1TG409",
        "outputId": "7412268a-bf88-4c6c-eeae-bb609ef65113"
      },
      "execution_count": 305,
      "outputs": [
        {
          "output_type": "stream",
          "name": "stdout",
          "text": [
            "Model: \"model_1_dense\"\n",
            "_________________________________________________________________\n",
            " Layer (type)                Output Shape              Param #   \n",
            "=================================================================\n",
            " input_28 (InputLayer)       [(None, 1)]               0         \n",
            "                                                                 \n",
            " text_vectorization_6 (TextV  (None, 3800)             0         \n",
            " ectorization)                                                   \n",
            "                                                                 \n",
            " embedding_8 (Embedding)     (None, 3800, 128)         1280000   \n",
            "                                                                 \n",
            " conv1d_28 (Conv1D)          (None, 3796, 64)          41024     \n",
            "                                                                 \n",
            " global_max_pooling1d_20 (Gl  (None, 64)               0         \n",
            " obalMaxPooling1D)                                               \n",
            "                                                                 \n",
            " dense_21 (Dense)            (None, 27)                1755      \n",
            "                                                                 \n",
            "=================================================================\n",
            "Total params: 1,322,779\n",
            "Trainable params: 1,322,779\n",
            "Non-trainable params: 0\n",
            "_________________________________________________________________\n"
          ]
        }
      ]
    },
    {
      "cell_type": "code",
      "source": [
        "# compile the model\n",
        "model_1.compile(loss = \"binary_crossentropy\",\n",
        "                optimizer = tf.keras.optimizers.Adam(),\n",
        "                metrics = [\"accuracy\"])"
      ],
      "metadata": {
        "id": "DmWYIjAbG6qV"
      },
      "execution_count": 306,
      "outputs": []
    },
    {
      "cell_type": "code",
      "source": [
        "# fit the model\n",
        "model_1_history = model_1.fit(train_sentences,\n",
        "                              train_labels,\n",
        "                              epochs = 50,\n",
        "                              validation_data = (val_sentences, val_labels))"
      ],
      "metadata": {
        "colab": {
          "base_uri": "https://localhost:8080/"
        },
        "id": "aXIdOL2dHFA_",
        "outputId": "2611e001-68d5-48ca-d7f9-9c009c5fba43"
      },
      "execution_count": 307,
      "outputs": [
        {
          "output_type": "stream",
          "name": "stdout",
          "text": [
            "Epoch 1/50\n",
            "75/75 [==============================] - 50s 658ms/step - loss: 0.2982 - accuracy: 0.2120 - val_loss: 0.2010 - val_accuracy: 0.3356\n",
            "Epoch 2/50\n",
            "75/75 [==============================] - 50s 660ms/step - loss: 0.1874 - accuracy: 0.4232 - val_loss: 0.1732 - val_accuracy: 0.4391\n",
            "Epoch 3/50\n",
            "75/75 [==============================] - 49s 655ms/step - loss: 0.1550 - accuracy: 0.5338 - val_loss: 0.1557 - val_accuracy: 0.5543\n",
            "Epoch 4/50\n",
            "75/75 [==============================] - 49s 654ms/step - loss: 0.1307 - accuracy: 0.5914 - val_loss: 0.1452 - val_accuracy: 0.5609\n",
            "Epoch 5/50\n",
            "75/75 [==============================] - 50s 663ms/step - loss: 0.1121 - accuracy: 0.6306 - val_loss: 0.1405 - val_accuracy: 0.5643\n",
            "Epoch 6/50\n",
            "75/75 [==============================] - 49s 659ms/step - loss: 0.0965 - accuracy: 0.6565 - val_loss: 0.1379 - val_accuracy: 0.5676\n",
            "Epoch 7/50\n",
            "75/75 [==============================] - 49s 657ms/step - loss: 0.0828 - accuracy: 0.6736 - val_loss: 0.1372 - val_accuracy: 0.5876\n",
            "Epoch 8/50\n",
            "75/75 [==============================] - 49s 660ms/step - loss: 0.0706 - accuracy: 0.6945 - val_loss: 0.1361 - val_accuracy: 0.5793\n",
            "Epoch 9/50\n",
            "75/75 [==============================] - 50s 665ms/step - loss: 0.0597 - accuracy: 0.7095 - val_loss: 0.1369 - val_accuracy: 0.5743\n",
            "Epoch 10/50\n",
            "75/75 [==============================] - 50s 666ms/step - loss: 0.0504 - accuracy: 0.7070 - val_loss: 0.1385 - val_accuracy: 0.5860\n",
            "Epoch 11/50\n",
            "75/75 [==============================] - 49s 653ms/step - loss: 0.0419 - accuracy: 0.7124 - val_loss: 0.1412 - val_accuracy: 0.5710\n",
            "Epoch 12/50\n",
            "75/75 [==============================] - 49s 656ms/step - loss: 0.0351 - accuracy: 0.7116 - val_loss: 0.1438 - val_accuracy: 0.5843\n",
            "Epoch 13/50\n",
            "75/75 [==============================] - 50s 665ms/step - loss: 0.0294 - accuracy: 0.7095 - val_loss: 0.1466 - val_accuracy: 0.5810\n",
            "Epoch 14/50\n",
            "75/75 [==============================] - 49s 657ms/step - loss: 0.0245 - accuracy: 0.7108 - val_loss: 0.1492 - val_accuracy: 0.5693\n",
            "Epoch 15/50\n",
            "75/75 [==============================] - 51s 686ms/step - loss: 0.0207 - accuracy: 0.7095 - val_loss: 0.1518 - val_accuracy: 0.5793\n",
            "Epoch 16/50\n",
            "75/75 [==============================] - 51s 686ms/step - loss: 0.0173 - accuracy: 0.7058 - val_loss: 0.1572 - val_accuracy: 0.5793\n",
            "Epoch 17/50\n",
            "75/75 [==============================] - 50s 667ms/step - loss: 0.0147 - accuracy: 0.7099 - val_loss: 0.1588 - val_accuracy: 0.5643\n",
            "Epoch 18/50\n",
            "75/75 [==============================] - 49s 657ms/step - loss: 0.0125 - accuracy: 0.7112 - val_loss: 0.1638 - val_accuracy: 0.5776\n",
            "Epoch 19/50\n",
            "75/75 [==============================] - 49s 653ms/step - loss: 0.0108 - accuracy: 0.7099 - val_loss: 0.1669 - val_accuracy: 0.5576\n",
            "Epoch 20/50\n",
            "75/75 [==============================] - 49s 656ms/step - loss: 0.0093 - accuracy: 0.7066 - val_loss: 0.1710 - val_accuracy: 0.5810\n",
            "Epoch 21/50\n",
            "75/75 [==============================] - 50s 666ms/step - loss: 0.0081 - accuracy: 0.7062 - val_loss: 0.1763 - val_accuracy: 0.5793\n",
            "Epoch 22/50\n",
            "75/75 [==============================] - 51s 684ms/step - loss: 0.0071 - accuracy: 0.7083 - val_loss: 0.1788 - val_accuracy: 0.5826\n",
            "Epoch 23/50\n",
            "75/75 [==============================] - 49s 655ms/step - loss: 0.0062 - accuracy: 0.7091 - val_loss: 0.1826 - val_accuracy: 0.5743\n",
            "Epoch 24/50\n",
            "75/75 [==============================] - 49s 654ms/step - loss: 0.0055 - accuracy: 0.7033 - val_loss: 0.1848 - val_accuracy: 0.5726\n",
            "Epoch 25/50\n",
            "75/75 [==============================] - 50s 665ms/step - loss: 0.0050 - accuracy: 0.7120 - val_loss: 0.1891 - val_accuracy: 0.5793\n",
            "Epoch 26/50\n",
            "75/75 [==============================] - 49s 654ms/step - loss: 0.0044 - accuracy: 0.7058 - val_loss: 0.1914 - val_accuracy: 0.5726\n",
            "Epoch 27/50\n",
            "75/75 [==============================] - 49s 657ms/step - loss: 0.0041 - accuracy: 0.7003 - val_loss: 0.1945 - val_accuracy: 0.5776\n",
            "Epoch 28/50\n",
            "75/75 [==============================] - 49s 656ms/step - loss: 0.0038 - accuracy: 0.7078 - val_loss: 0.1974 - val_accuracy: 0.5743\n",
            "Epoch 29/50\n",
            "75/75 [==============================] - 50s 669ms/step - loss: 0.0034 - accuracy: 0.7033 - val_loss: 0.2014 - val_accuracy: 0.5743\n",
            "Epoch 30/50\n",
            "75/75 [==============================] - 49s 657ms/step - loss: 0.0031 - accuracy: 0.7024 - val_loss: 0.2048 - val_accuracy: 0.5693\n",
            "Epoch 31/50\n",
            "75/75 [==============================] - 49s 653ms/step - loss: 0.0028 - accuracy: 0.7170 - val_loss: 0.2054 - val_accuracy: 0.5810\n",
            "Epoch 32/50\n",
            "75/75 [==============================] - 51s 686ms/step - loss: 0.0026 - accuracy: 0.6978 - val_loss: 0.2092 - val_accuracy: 0.5793\n",
            "Epoch 33/50\n",
            "75/75 [==============================] - 50s 667ms/step - loss: 0.0026 - accuracy: 0.7091 - val_loss: 0.2139 - val_accuracy: 0.5876\n",
            "Epoch 34/50\n",
            "75/75 [==============================] - 49s 654ms/step - loss: 0.0022 - accuracy: 0.7041 - val_loss: 0.2134 - val_accuracy: 0.5793\n",
            "Epoch 35/50\n",
            "75/75 [==============================] - 49s 654ms/step - loss: 0.0022 - accuracy: 0.7074 - val_loss: 0.2158 - val_accuracy: 0.5743\n",
            "Epoch 36/50\n",
            "75/75 [==============================] - 51s 685ms/step - loss: 0.0020 - accuracy: 0.6991 - val_loss: 0.2192 - val_accuracy: 0.5760\n",
            "Epoch 37/50\n",
            "75/75 [==============================] - 52s 701ms/step - loss: 0.0019 - accuracy: 0.7104 - val_loss: 0.2222 - val_accuracy: 0.5743\n",
            "Epoch 38/50\n",
            "75/75 [==============================] - 49s 655ms/step - loss: 0.0017 - accuracy: 0.6970 - val_loss: 0.2261 - val_accuracy: 0.5793\n",
            "Epoch 39/50\n",
            "75/75 [==============================] - 49s 654ms/step - loss: 0.0017 - accuracy: 0.7091 - val_loss: 0.2271 - val_accuracy: 0.5810\n",
            "Epoch 40/50\n",
            "75/75 [==============================] - 51s 687ms/step - loss: 0.0016 - accuracy: 0.7033 - val_loss: 0.2284 - val_accuracy: 0.5726\n",
            "Epoch 41/50\n",
            "75/75 [==============================] - 49s 651ms/step - loss: 0.0016 - accuracy: 0.7066 - val_loss: 0.2313 - val_accuracy: 0.5743\n",
            "Epoch 42/50\n",
            "75/75 [==============================] - 49s 654ms/step - loss: 0.0016 - accuracy: 0.7016 - val_loss: 0.2378 - val_accuracy: 0.5710\n",
            "Epoch 43/50\n",
            "75/75 [==============================] - 49s 654ms/step - loss: 0.0015 - accuracy: 0.7095 - val_loss: 0.2379 - val_accuracy: 0.5726\n",
            "Epoch 44/50\n",
            "75/75 [==============================] - 49s 655ms/step - loss: 0.0012 - accuracy: 0.6999 - val_loss: 0.2388 - val_accuracy: 0.5860\n",
            "Epoch 45/50\n",
            "75/75 [==============================] - 49s 661ms/step - loss: 0.0013 - accuracy: 0.7008 - val_loss: 0.2411 - val_accuracy: 0.5760\n",
            "Epoch 46/50\n",
            "75/75 [==============================] - 51s 686ms/step - loss: 0.0013 - accuracy: 0.7053 - val_loss: 0.2421 - val_accuracy: 0.5676\n",
            "Epoch 47/50\n",
            "75/75 [==============================] - 50s 660ms/step - loss: 0.0011 - accuracy: 0.6999 - val_loss: 0.2412 - val_accuracy: 0.5676\n",
            "Epoch 48/50\n",
            "75/75 [==============================] - 49s 652ms/step - loss: 0.0013 - accuracy: 0.6962 - val_loss: 0.2445 - val_accuracy: 0.5743\n",
            "Epoch 49/50\n",
            "75/75 [==============================] - 52s 698ms/step - loss: 0.0012 - accuracy: 0.7078 - val_loss: 0.2481 - val_accuracy: 0.5710\n",
            "Epoch 50/50\n",
            "75/75 [==============================] - 49s 655ms/step - loss: 0.0011 - accuracy: 0.6953 - val_loss: 0.2512 - val_accuracy: 0.5726\n"
          ]
        }
      ]
    },
    {
      "cell_type": "code",
      "source": [
        "model_1.evaluate(val_sentences, val_labels)"
      ],
      "metadata": {
        "colab": {
          "base_uri": "https://localhost:8080/"
        },
        "id": "-zsAZBpTHlfP",
        "outputId": "1bf48977-4ae5-406a-9f19-2a5bfc2ecfb1"
      },
      "execution_count": 308,
      "outputs": [
        {
          "output_type": "stream",
          "name": "stdout",
          "text": [
            "19/19 [==============================] - 4s 185ms/step - loss: 0.2512 - accuracy: 0.5726\n"
          ]
        },
        {
          "output_type": "execute_result",
          "data": {
            "text/plain": [
              "[0.25120335817337036, 0.5726210474967957]"
            ]
          },
          "metadata": {},
          "execution_count": 308
        }
      ]
    },
    {
      "cell_type": "code",
      "source": [
        "model_1_pred_probs = model_1.predict(val_sentences)\n",
        "model_1_pred_probs[:5]"
      ],
      "metadata": {
        "colab": {
          "base_uri": "https://localhost:8080/"
        },
        "id": "ln65-Y7RKU7q",
        "outputId": "e34207ec-f295-4f98-ae52-6dcc9de2b122"
      },
      "execution_count": 309,
      "outputs": [
        {
          "output_type": "stream",
          "name": "stdout",
          "text": [
            "19/19 [==============================] - 3s 152ms/step\n"
          ]
        },
        {
          "output_type": "execute_result",
          "data": {
            "text/plain": [
              "array([[5.14338261e-09, 1.83406328e-12, 3.25237949e-12, 6.10958117e-10,\n",
              "        6.91600166e-10, 5.65355718e-09, 4.21033768e-08, 5.98438743e-10,\n",
              "        9.99770403e-01, 3.28162786e-09, 1.17313070e-09, 1.43876788e-09,\n",
              "        3.72914100e-09, 3.21225784e-08, 1.33953432e-10, 1.46820600e-09,\n",
              "        7.86984433e-09, 1.15818743e-10, 4.35465192e-10, 4.82606204e-08,\n",
              "        6.99084179e-10, 1.31870653e-10, 5.23856569e-10, 2.10118873e-04,\n",
              "        9.64571534e-10, 2.52463006e-09, 1.94664190e-05],\n",
              "       [1.23345842e-06, 6.44222439e-07, 5.01669717e-07, 1.88526483e-09,\n",
              "        7.12958645e-05, 8.75645796e-08, 1.59249032e-06, 9.60641700e-08,\n",
              "        1.89350366e-08, 3.94234378e-09, 4.98301006e-07, 5.61183384e-08,\n",
              "        7.04182455e-08, 9.22805896e-07, 7.34873829e-05, 7.61800084e-06,\n",
              "        1.72396540e-05, 4.05106739e-08, 2.28405682e-07, 9.99812603e-01,\n",
              "        1.77547554e-06, 1.80589463e-08, 7.06514675e-06, 3.21338289e-10,\n",
              "        1.90643107e-07, 9.71715224e-08, 2.82619203e-06],\n",
              "       [2.00460654e-05, 5.64385982e-06, 1.97954833e-07, 1.61451669e-06,\n",
              "        7.79988795e-07, 2.25690263e-03, 1.08535505e-05, 5.78422214e-06,\n",
              "        8.34995568e-01, 7.04656122e-06, 1.03734862e-06, 1.18713342e-06,\n",
              "        9.95595428e-07, 2.79552569e-06, 4.39561187e-09, 2.35537911e-07,\n",
              "        1.40033138e-03, 2.04443518e-06, 6.63349101e-06, 2.51062829e-05,\n",
              "        6.38683423e-06, 9.90530040e-08, 3.23680615e-05, 7.99598638e-06,\n",
              "        1.25846118e-05, 9.51087204e-05, 1.61100671e-01],\n",
              "       [6.80383527e-10, 4.88907081e-10, 4.16318091e-10, 6.04813977e-08,\n",
              "        3.62120751e-08, 9.42751655e-08, 1.29602213e-08, 4.17500168e-08,\n",
              "        1.60711409e-06, 1.90201693e-03, 1.90619971e-06, 3.95813089e-08,\n",
              "        6.36133791e-07, 7.29709541e-07, 7.05517936e-11, 1.69915443e-10,\n",
              "        5.55839642e-06, 2.74283411e-06, 8.22745847e-07, 2.03307900e-06,\n",
              "        3.45334302e-05, 3.72350617e-09, 2.11124572e-07, 9.97584105e-01,\n",
              "        4.53850051e-04, 8.86578073e-06, 1.84075205e-07],\n",
              "       [6.69892302e-08, 8.52777647e-13, 2.42685427e-09, 4.01624949e-11,\n",
              "        6.36207353e-09, 2.38628530e-07, 4.39361880e-09, 1.86679117e-09,\n",
              "        9.57895577e-01, 4.87200835e-10, 2.56895505e-10, 8.59133042e-10,\n",
              "        6.95786224e-12, 6.10657080e-09, 4.90288254e-10, 3.70029701e-10,\n",
              "        1.70352621e-04, 2.07357065e-09, 3.59929864e-11, 1.91143741e-08,\n",
              "        2.04731556e-08, 3.38683193e-10, 1.27327598e-06, 1.42666240e-10,\n",
              "        1.48031862e-08, 1.62602952e-11, 4.19324264e-02]], dtype=float32)"
            ]
          },
          "metadata": {},
          "execution_count": 309
        }
      ]
    },
    {
      "cell_type": "code",
      "source": [
        "model_1_preds = tf.squeeze(tf.round(model_1_pred_probs))\n",
        "model_1_preds[:5]"
      ],
      "metadata": {
        "colab": {
          "base_uri": "https://localhost:8080/"
        },
        "id": "2I-TetopKk-N",
        "outputId": "f5760b56-8d53-408a-be5e-a5fa177c2ffe"
      },
      "execution_count": 310,
      "outputs": [
        {
          "output_type": "execute_result",
          "data": {
            "text/plain": [
              "<tf.Tensor: shape=(5, 27), dtype=float32, numpy=\n",
              "array([[0., 0., 0., 0., 0., 0., 0., 0., 1., 0., 0., 0., 0., 0., 0., 0.,\n",
              "        0., 0., 0., 0., 0., 0., 0., 0., 0., 0., 0.],\n",
              "       [0., 0., 0., 0., 0., 0., 0., 0., 0., 0., 0., 0., 0., 0., 0., 0.,\n",
              "        0., 0., 0., 1., 0., 0., 0., 0., 0., 0., 0.],\n",
              "       [0., 0., 0., 0., 0., 0., 0., 0., 1., 0., 0., 0., 0., 0., 0., 0.,\n",
              "        0., 0., 0., 0., 0., 0., 0., 0., 0., 0., 0.],\n",
              "       [0., 0., 0., 0., 0., 0., 0., 0., 0., 0., 0., 0., 0., 0., 0., 0.,\n",
              "        0., 0., 0., 0., 0., 0., 0., 1., 0., 0., 0.],\n",
              "       [0., 0., 0., 0., 0., 0., 0., 0., 1., 0., 0., 0., 0., 0., 0., 0.,\n",
              "        0., 0., 0., 0., 0., 0., 0., 0., 0., 0., 0.]], dtype=float32)>"
            ]
          },
          "metadata": {},
          "execution_count": 310
        }
      ]
    },
    {
      "cell_type": "code",
      "source": [
        "# calculate hamming loss\n",
        "from sklearn.metrics import hamming_loss\n",
        "hamming_loss(y_true = val_labels,\n",
        "             y_pred = model_1_preds)"
      ],
      "metadata": {
        "colab": {
          "base_uri": "https://localhost:8080/"
        },
        "id": "r3_xsKS3KPLb",
        "outputId": "063c4e35-2843-4a30-afb6-4827b01cb7d1"
      },
      "execution_count": 311,
      "outputs": [
        {
          "output_type": "execute_result",
          "data": {
            "text/plain": [
              "0.05076361837630619"
            ]
          },
          "metadata": {},
          "execution_count": 311
        }
      ]
    },
    {
      "cell_type": "markdown",
      "source": [
        "## Prepare for the submission"
      ],
      "metadata": {
        "id": "YHLxMQgcXogL"
      }
    },
    {
      "cell_type": "code",
      "source": [
        "submission_data = pd.read_csv(\"Devex_test_questions.csv\", encoding='latin-1')\n",
        "submission_data.head()"
      ],
      "metadata": {
        "colab": {
          "base_uri": "https://localhost:8080/",
          "height": 698
        },
        "id": "GyI54Ld8XsKn",
        "outputId": "e1c03540-c278-43fe-91f9-e3f34158325f"
      },
      "execution_count": 312,
      "outputs": [
        {
          "output_type": "execute_result",
          "data": {
            "text/plain": [
              "   Unique ID                                               Text  3.1.1  3.1.2  \\\n",
              "0      49848  4th Sector Health: <p>4th Sector Health is a U...    NaN    NaN   \n",
              "1      52348  Action for Global Health: <p>Action for Global...    NaN    NaN   \n",
              "2     103541  Scottish Association for Mental Health (SAMH):...    NaN    NaN   \n",
              "3      52382  Singapore Immunology Network: <p>The Singapore...    NaN    NaN   \n",
              "4      47212  Coastal Conservation and Education Foundation ...    NaN    NaN   \n",
              "\n",
              "   3.2.1  3.2.2  3.3.1  3.3.2  3.3.3  3.3.4  ...  3.8.2  3.9.1  3.9.2  3.9.3  \\\n",
              "0    NaN    NaN    NaN    NaN    NaN    NaN  ...    NaN    NaN    NaN    NaN   \n",
              "1    NaN    NaN    NaN    NaN    NaN    NaN  ...    NaN    NaN    NaN    NaN   \n",
              "2    NaN    NaN    NaN    NaN    NaN    NaN  ...    NaN    NaN    NaN    NaN   \n",
              "3    NaN    NaN    NaN    NaN    NaN    NaN  ...    NaN    NaN    NaN    NaN   \n",
              "4    NaN    NaN    NaN    NaN    NaN    NaN  ...    NaN    NaN    NaN    NaN   \n",
              "\n",
              "   3.a.1  3.b.1  3.b.2  3.b.3  3.c.1  3.d.1  \n",
              "0    NaN    NaN    NaN    NaN    NaN    NaN  \n",
              "1    NaN    NaN    NaN    NaN    NaN    NaN  \n",
              "2    NaN    NaN    NaN    NaN    NaN    NaN  \n",
              "3    NaN    NaN    NaN    NaN    NaN    NaN  \n",
              "4    NaN    NaN    NaN    NaN    NaN    NaN  \n",
              "\n",
              "[5 rows x 29 columns]"
            ],
            "text/html": [
              "\n",
              "\n",
              "  <div id=\"df-2f79ee41-0dcc-47e7-afc5-4aef345871a4\">\n",
              "    <div class=\"colab-df-container\">\n",
              "      <div>\n",
              "<style scoped>\n",
              "    .dataframe tbody tr th:only-of-type {\n",
              "        vertical-align: middle;\n",
              "    }\n",
              "\n",
              "    .dataframe tbody tr th {\n",
              "        vertical-align: top;\n",
              "    }\n",
              "\n",
              "    .dataframe thead th {\n",
              "        text-align: right;\n",
              "    }\n",
              "</style>\n",
              "<table border=\"1\" class=\"dataframe\">\n",
              "  <thead>\n",
              "    <tr style=\"text-align: right;\">\n",
              "      <th></th>\n",
              "      <th>Unique ID</th>\n",
              "      <th>Text</th>\n",
              "      <th>3.1.1</th>\n",
              "      <th>3.1.2</th>\n",
              "      <th>3.2.1</th>\n",
              "      <th>3.2.2</th>\n",
              "      <th>3.3.1</th>\n",
              "      <th>3.3.2</th>\n",
              "      <th>3.3.3</th>\n",
              "      <th>3.3.4</th>\n",
              "      <th>...</th>\n",
              "      <th>3.8.2</th>\n",
              "      <th>3.9.1</th>\n",
              "      <th>3.9.2</th>\n",
              "      <th>3.9.3</th>\n",
              "      <th>3.a.1</th>\n",
              "      <th>3.b.1</th>\n",
              "      <th>3.b.2</th>\n",
              "      <th>3.b.3</th>\n",
              "      <th>3.c.1</th>\n",
              "      <th>3.d.1</th>\n",
              "    </tr>\n",
              "  </thead>\n",
              "  <tbody>\n",
              "    <tr>\n",
              "      <th>0</th>\n",
              "      <td>49848</td>\n",
              "      <td>4th Sector Health: &lt;p&gt;4th Sector Health is a U...</td>\n",
              "      <td>NaN</td>\n",
              "      <td>NaN</td>\n",
              "      <td>NaN</td>\n",
              "      <td>NaN</td>\n",
              "      <td>NaN</td>\n",
              "      <td>NaN</td>\n",
              "      <td>NaN</td>\n",
              "      <td>NaN</td>\n",
              "      <td>...</td>\n",
              "      <td>NaN</td>\n",
              "      <td>NaN</td>\n",
              "      <td>NaN</td>\n",
              "      <td>NaN</td>\n",
              "      <td>NaN</td>\n",
              "      <td>NaN</td>\n",
              "      <td>NaN</td>\n",
              "      <td>NaN</td>\n",
              "      <td>NaN</td>\n",
              "      <td>NaN</td>\n",
              "    </tr>\n",
              "    <tr>\n",
              "      <th>1</th>\n",
              "      <td>52348</td>\n",
              "      <td>Action for Global Health: &lt;p&gt;Action for Global...</td>\n",
              "      <td>NaN</td>\n",
              "      <td>NaN</td>\n",
              "      <td>NaN</td>\n",
              "      <td>NaN</td>\n",
              "      <td>NaN</td>\n",
              "      <td>NaN</td>\n",
              "      <td>NaN</td>\n",
              "      <td>NaN</td>\n",
              "      <td>...</td>\n",
              "      <td>NaN</td>\n",
              "      <td>NaN</td>\n",
              "      <td>NaN</td>\n",
              "      <td>NaN</td>\n",
              "      <td>NaN</td>\n",
              "      <td>NaN</td>\n",
              "      <td>NaN</td>\n",
              "      <td>NaN</td>\n",
              "      <td>NaN</td>\n",
              "      <td>NaN</td>\n",
              "    </tr>\n",
              "    <tr>\n",
              "      <th>2</th>\n",
              "      <td>103541</td>\n",
              "      <td>Scottish Association for Mental Health (SAMH):...</td>\n",
              "      <td>NaN</td>\n",
              "      <td>NaN</td>\n",
              "      <td>NaN</td>\n",
              "      <td>NaN</td>\n",
              "      <td>NaN</td>\n",
              "      <td>NaN</td>\n",
              "      <td>NaN</td>\n",
              "      <td>NaN</td>\n",
              "      <td>...</td>\n",
              "      <td>NaN</td>\n",
              "      <td>NaN</td>\n",
              "      <td>NaN</td>\n",
              "      <td>NaN</td>\n",
              "      <td>NaN</td>\n",
              "      <td>NaN</td>\n",
              "      <td>NaN</td>\n",
              "      <td>NaN</td>\n",
              "      <td>NaN</td>\n",
              "      <td>NaN</td>\n",
              "    </tr>\n",
              "    <tr>\n",
              "      <th>3</th>\n",
              "      <td>52382</td>\n",
              "      <td>Singapore Immunology Network: &lt;p&gt;The Singapore...</td>\n",
              "      <td>NaN</td>\n",
              "      <td>NaN</td>\n",
              "      <td>NaN</td>\n",
              "      <td>NaN</td>\n",
              "      <td>NaN</td>\n",
              "      <td>NaN</td>\n",
              "      <td>NaN</td>\n",
              "      <td>NaN</td>\n",
              "      <td>...</td>\n",
              "      <td>NaN</td>\n",
              "      <td>NaN</td>\n",
              "      <td>NaN</td>\n",
              "      <td>NaN</td>\n",
              "      <td>NaN</td>\n",
              "      <td>NaN</td>\n",
              "      <td>NaN</td>\n",
              "      <td>NaN</td>\n",
              "      <td>NaN</td>\n",
              "      <td>NaN</td>\n",
              "    </tr>\n",
              "    <tr>\n",
              "      <th>4</th>\n",
              "      <td>47212</td>\n",
              "      <td>Coastal Conservation and Education Foundation ...</td>\n",
              "      <td>NaN</td>\n",
              "      <td>NaN</td>\n",
              "      <td>NaN</td>\n",
              "      <td>NaN</td>\n",
              "      <td>NaN</td>\n",
              "      <td>NaN</td>\n",
              "      <td>NaN</td>\n",
              "      <td>NaN</td>\n",
              "      <td>...</td>\n",
              "      <td>NaN</td>\n",
              "      <td>NaN</td>\n",
              "      <td>NaN</td>\n",
              "      <td>NaN</td>\n",
              "      <td>NaN</td>\n",
              "      <td>NaN</td>\n",
              "      <td>NaN</td>\n",
              "      <td>NaN</td>\n",
              "      <td>NaN</td>\n",
              "      <td>NaN</td>\n",
              "    </tr>\n",
              "  </tbody>\n",
              "</table>\n",
              "<p>5 rows × 29 columns</p>\n",
              "</div>\n",
              "      <button class=\"colab-df-convert\" onclick=\"convertToInteractive('df-2f79ee41-0dcc-47e7-afc5-4aef345871a4')\"\n",
              "              title=\"Convert this dataframe to an interactive table.\"\n",
              "              style=\"display:none;\">\n",
              "\n",
              "  <svg xmlns=\"http://www.w3.org/2000/svg\" height=\"24px\"viewBox=\"0 0 24 24\"\n",
              "       width=\"24px\">\n",
              "    <path d=\"M0 0h24v24H0V0z\" fill=\"none\"/>\n",
              "    <path d=\"M18.56 5.44l.94 2.06.94-2.06 2.06-.94-2.06-.94-.94-2.06-.94 2.06-2.06.94zm-11 1L8.5 8.5l.94-2.06 2.06-.94-2.06-.94L8.5 2.5l-.94 2.06-2.06.94zm10 10l.94 2.06.94-2.06 2.06-.94-2.06-.94-.94-2.06-.94 2.06-2.06.94z\"/><path d=\"M17.41 7.96l-1.37-1.37c-.4-.4-.92-.59-1.43-.59-.52 0-1.04.2-1.43.59L10.3 9.45l-7.72 7.72c-.78.78-.78 2.05 0 2.83L4 21.41c.39.39.9.59 1.41.59.51 0 1.02-.2 1.41-.59l7.78-7.78 2.81-2.81c.8-.78.8-2.07 0-2.86zM5.41 20L4 18.59l7.72-7.72 1.47 1.35L5.41 20z\"/>\n",
              "  </svg>\n",
              "      </button>\n",
              "\n",
              "\n",
              "\n",
              "    <div id=\"df-5798c3df-4d9a-4bc0-bc51-ae1f6778516f\">\n",
              "      <button class=\"colab-df-quickchart\" onclick=\"quickchart('df-5798c3df-4d9a-4bc0-bc51-ae1f6778516f')\"\n",
              "              title=\"Suggest charts.\"\n",
              "              style=\"display:none;\">\n",
              "\n",
              "<svg xmlns=\"http://www.w3.org/2000/svg\" height=\"24px\"viewBox=\"0 0 24 24\"\n",
              "     width=\"24px\">\n",
              "    <g>\n",
              "        <path d=\"M19 3H5c-1.1 0-2 .9-2 2v14c0 1.1.9 2 2 2h14c1.1 0 2-.9 2-2V5c0-1.1-.9-2-2-2zM9 17H7v-7h2v7zm4 0h-2V7h2v10zm4 0h-2v-4h2v4z\"/>\n",
              "    </g>\n",
              "</svg>\n",
              "      </button>\n",
              "    </div>\n",
              "\n",
              "<style>\n",
              "  .colab-df-quickchart {\n",
              "    background-color: #E8F0FE;\n",
              "    border: none;\n",
              "    border-radius: 50%;\n",
              "    cursor: pointer;\n",
              "    display: none;\n",
              "    fill: #1967D2;\n",
              "    height: 32px;\n",
              "    padding: 0 0 0 0;\n",
              "    width: 32px;\n",
              "  }\n",
              "\n",
              "  .colab-df-quickchart:hover {\n",
              "    background-color: #E2EBFA;\n",
              "    box-shadow: 0px 1px 2px rgba(60, 64, 67, 0.3), 0px 1px 3px 1px rgba(60, 64, 67, 0.15);\n",
              "    fill: #174EA6;\n",
              "  }\n",
              "\n",
              "  [theme=dark] .colab-df-quickchart {\n",
              "    background-color: #3B4455;\n",
              "    fill: #D2E3FC;\n",
              "  }\n",
              "\n",
              "  [theme=dark] .colab-df-quickchart:hover {\n",
              "    background-color: #434B5C;\n",
              "    box-shadow: 0px 1px 3px 1px rgba(0, 0, 0, 0.15);\n",
              "    filter: drop-shadow(0px 1px 2px rgba(0, 0, 0, 0.3));\n",
              "    fill: #FFFFFF;\n",
              "  }\n",
              "</style>\n",
              "\n",
              "    <script>\n",
              "      async function quickchart(key) {\n",
              "        const containerElement = document.querySelector('#' + key);\n",
              "        const charts = await google.colab.kernel.invokeFunction(\n",
              "            'suggestCharts', [key], {});\n",
              "      }\n",
              "    </script>\n",
              "\n",
              "      <script>\n",
              "\n",
              "function displayQuickchartButton(domScope) {\n",
              "  let quickchartButtonEl =\n",
              "    domScope.querySelector('#df-5798c3df-4d9a-4bc0-bc51-ae1f6778516f button.colab-df-quickchart');\n",
              "  quickchartButtonEl.style.display =\n",
              "    google.colab.kernel.accessAllowed ? 'block' : 'none';\n",
              "}\n",
              "\n",
              "        displayQuickchartButton(document);\n",
              "      </script>\n",
              "      <style>\n",
              "    .colab-df-container {\n",
              "      display:flex;\n",
              "      flex-wrap:wrap;\n",
              "      gap: 12px;\n",
              "    }\n",
              "\n",
              "    .colab-df-convert {\n",
              "      background-color: #E8F0FE;\n",
              "      border: none;\n",
              "      border-radius: 50%;\n",
              "      cursor: pointer;\n",
              "      display: none;\n",
              "      fill: #1967D2;\n",
              "      height: 32px;\n",
              "      padding: 0 0 0 0;\n",
              "      width: 32px;\n",
              "    }\n",
              "\n",
              "    .colab-df-convert:hover {\n",
              "      background-color: #E2EBFA;\n",
              "      box-shadow: 0px 1px 2px rgba(60, 64, 67, 0.3), 0px 1px 3px 1px rgba(60, 64, 67, 0.15);\n",
              "      fill: #174EA6;\n",
              "    }\n",
              "\n",
              "    [theme=dark] .colab-df-convert {\n",
              "      background-color: #3B4455;\n",
              "      fill: #D2E3FC;\n",
              "    }\n",
              "\n",
              "    [theme=dark] .colab-df-convert:hover {\n",
              "      background-color: #434B5C;\n",
              "      box-shadow: 0px 1px 3px 1px rgba(0, 0, 0, 0.15);\n",
              "      filter: drop-shadow(0px 1px 2px rgba(0, 0, 0, 0.3));\n",
              "      fill: #FFFFFF;\n",
              "    }\n",
              "  </style>\n",
              "\n",
              "      <script>\n",
              "        const buttonEl =\n",
              "          document.querySelector('#df-2f79ee41-0dcc-47e7-afc5-4aef345871a4 button.colab-df-convert');\n",
              "        buttonEl.style.display =\n",
              "          google.colab.kernel.accessAllowed ? 'block' : 'none';\n",
              "\n",
              "        async function convertToInteractive(key) {\n",
              "          const element = document.querySelector('#df-2f79ee41-0dcc-47e7-afc5-4aef345871a4');\n",
              "          const dataTable =\n",
              "            await google.colab.kernel.invokeFunction('convertToInteractive',\n",
              "                                                     [key], {});\n",
              "          if (!dataTable) return;\n",
              "\n",
              "          const docLinkHtml = 'Like what you see? Visit the ' +\n",
              "            '<a target=\"_blank\" href=https://colab.research.google.com/notebooks/data_table.ipynb>data table notebook</a>'\n",
              "            + ' to learn more about interactive tables.';\n",
              "          element.innerHTML = '';\n",
              "          dataTable['output_type'] = 'display_data';\n",
              "          await google.colab.output.renderOutput(dataTable, element);\n",
              "          const docLink = document.createElement('div');\n",
              "          docLink.innerHTML = docLinkHtml;\n",
              "          element.appendChild(docLink);\n",
              "        }\n",
              "      </script>\n",
              "    </div>\n",
              "  </div>\n"
            ]
          },
          "metadata": {},
          "execution_count": 312
        }
      ]
    },
    {
      "cell_type": "markdown",
      "source": [
        "### Clean the submission data"
      ],
      "metadata": {
        "id": "4zocgJUpYYgz"
      }
    },
    {
      "cell_type": "code",
      "source": [
        "import re\n",
        "\n",
        "cleanr = re.compile('<.*?>')\n",
        "\n",
        "def remove_html(raw_html):\n",
        "    cleantext = re.sub(cleanr, '', raw_html)\n",
        "    cleantext = re.sub('&nbsp;', ' ', cleantext)\n",
        "    cleantext = re.sub('&bull;', ' ', cleantext)\n",
        "    return cleantext"
      ],
      "metadata": {
        "id": "NcaFS-ynYJ32"
      },
      "execution_count": 313,
      "outputs": []
    },
    {
      "cell_type": "code",
      "source": [
        "submission_data[\"Text\"] = submission_data[\"Text\"].apply(remove_html)"
      ],
      "metadata": {
        "id": "0xGAzdJXYgym"
      },
      "execution_count": 314,
      "outputs": []
    },
    {
      "cell_type": "code",
      "source": [
        "submission_data.head()"
      ],
      "metadata": {
        "colab": {
          "base_uri": "https://localhost:8080/",
          "height": 681
        },
        "id": "YrHdeRdvZxqF",
        "outputId": "42a5321f-431d-4b11-b6f2-f4bde6827cfd"
      },
      "execution_count": 315,
      "outputs": [
        {
          "output_type": "execute_result",
          "data": {
            "text/plain": [
              "   Unique ID                                               Text  3.1.1  3.1.2  \\\n",
              "0      49848  4th Sector Health: 4th Sector Health is a USAI...    NaN    NaN   \n",
              "1      52348  Action for Global Health: Action for Global He...    NaN    NaN   \n",
              "2     103541  Scottish Association for Mental Health (SAMH):...    NaN    NaN   \n",
              "3      52382  Singapore Immunology Network: The Singapore Im...    NaN    NaN   \n",
              "4      47212  Coastal Conservation and Education Foundation ...    NaN    NaN   \n",
              "\n",
              "   3.2.1  3.2.2  3.3.1  3.3.2  3.3.3  3.3.4  ...  3.8.2  3.9.1  3.9.2  3.9.3  \\\n",
              "0    NaN    NaN    NaN    NaN    NaN    NaN  ...    NaN    NaN    NaN    NaN   \n",
              "1    NaN    NaN    NaN    NaN    NaN    NaN  ...    NaN    NaN    NaN    NaN   \n",
              "2    NaN    NaN    NaN    NaN    NaN    NaN  ...    NaN    NaN    NaN    NaN   \n",
              "3    NaN    NaN    NaN    NaN    NaN    NaN  ...    NaN    NaN    NaN    NaN   \n",
              "4    NaN    NaN    NaN    NaN    NaN    NaN  ...    NaN    NaN    NaN    NaN   \n",
              "\n",
              "   3.a.1  3.b.1  3.b.2  3.b.3  3.c.1  3.d.1  \n",
              "0    NaN    NaN    NaN    NaN    NaN    NaN  \n",
              "1    NaN    NaN    NaN    NaN    NaN    NaN  \n",
              "2    NaN    NaN    NaN    NaN    NaN    NaN  \n",
              "3    NaN    NaN    NaN    NaN    NaN    NaN  \n",
              "4    NaN    NaN    NaN    NaN    NaN    NaN  \n",
              "\n",
              "[5 rows x 29 columns]"
            ],
            "text/html": [
              "\n",
              "\n",
              "  <div id=\"df-88588a4a-1299-4adf-a541-53f31d37d5dd\">\n",
              "    <div class=\"colab-df-container\">\n",
              "      <div>\n",
              "<style scoped>\n",
              "    .dataframe tbody tr th:only-of-type {\n",
              "        vertical-align: middle;\n",
              "    }\n",
              "\n",
              "    .dataframe tbody tr th {\n",
              "        vertical-align: top;\n",
              "    }\n",
              "\n",
              "    .dataframe thead th {\n",
              "        text-align: right;\n",
              "    }\n",
              "</style>\n",
              "<table border=\"1\" class=\"dataframe\">\n",
              "  <thead>\n",
              "    <tr style=\"text-align: right;\">\n",
              "      <th></th>\n",
              "      <th>Unique ID</th>\n",
              "      <th>Text</th>\n",
              "      <th>3.1.1</th>\n",
              "      <th>3.1.2</th>\n",
              "      <th>3.2.1</th>\n",
              "      <th>3.2.2</th>\n",
              "      <th>3.3.1</th>\n",
              "      <th>3.3.2</th>\n",
              "      <th>3.3.3</th>\n",
              "      <th>3.3.4</th>\n",
              "      <th>...</th>\n",
              "      <th>3.8.2</th>\n",
              "      <th>3.9.1</th>\n",
              "      <th>3.9.2</th>\n",
              "      <th>3.9.3</th>\n",
              "      <th>3.a.1</th>\n",
              "      <th>3.b.1</th>\n",
              "      <th>3.b.2</th>\n",
              "      <th>3.b.3</th>\n",
              "      <th>3.c.1</th>\n",
              "      <th>3.d.1</th>\n",
              "    </tr>\n",
              "  </thead>\n",
              "  <tbody>\n",
              "    <tr>\n",
              "      <th>0</th>\n",
              "      <td>49848</td>\n",
              "      <td>4th Sector Health: 4th Sector Health is a USAI...</td>\n",
              "      <td>NaN</td>\n",
              "      <td>NaN</td>\n",
              "      <td>NaN</td>\n",
              "      <td>NaN</td>\n",
              "      <td>NaN</td>\n",
              "      <td>NaN</td>\n",
              "      <td>NaN</td>\n",
              "      <td>NaN</td>\n",
              "      <td>...</td>\n",
              "      <td>NaN</td>\n",
              "      <td>NaN</td>\n",
              "      <td>NaN</td>\n",
              "      <td>NaN</td>\n",
              "      <td>NaN</td>\n",
              "      <td>NaN</td>\n",
              "      <td>NaN</td>\n",
              "      <td>NaN</td>\n",
              "      <td>NaN</td>\n",
              "      <td>NaN</td>\n",
              "    </tr>\n",
              "    <tr>\n",
              "      <th>1</th>\n",
              "      <td>52348</td>\n",
              "      <td>Action for Global Health: Action for Global He...</td>\n",
              "      <td>NaN</td>\n",
              "      <td>NaN</td>\n",
              "      <td>NaN</td>\n",
              "      <td>NaN</td>\n",
              "      <td>NaN</td>\n",
              "      <td>NaN</td>\n",
              "      <td>NaN</td>\n",
              "      <td>NaN</td>\n",
              "      <td>...</td>\n",
              "      <td>NaN</td>\n",
              "      <td>NaN</td>\n",
              "      <td>NaN</td>\n",
              "      <td>NaN</td>\n",
              "      <td>NaN</td>\n",
              "      <td>NaN</td>\n",
              "      <td>NaN</td>\n",
              "      <td>NaN</td>\n",
              "      <td>NaN</td>\n",
              "      <td>NaN</td>\n",
              "    </tr>\n",
              "    <tr>\n",
              "      <th>2</th>\n",
              "      <td>103541</td>\n",
              "      <td>Scottish Association for Mental Health (SAMH):...</td>\n",
              "      <td>NaN</td>\n",
              "      <td>NaN</td>\n",
              "      <td>NaN</td>\n",
              "      <td>NaN</td>\n",
              "      <td>NaN</td>\n",
              "      <td>NaN</td>\n",
              "      <td>NaN</td>\n",
              "      <td>NaN</td>\n",
              "      <td>...</td>\n",
              "      <td>NaN</td>\n",
              "      <td>NaN</td>\n",
              "      <td>NaN</td>\n",
              "      <td>NaN</td>\n",
              "      <td>NaN</td>\n",
              "      <td>NaN</td>\n",
              "      <td>NaN</td>\n",
              "      <td>NaN</td>\n",
              "      <td>NaN</td>\n",
              "      <td>NaN</td>\n",
              "    </tr>\n",
              "    <tr>\n",
              "      <th>3</th>\n",
              "      <td>52382</td>\n",
              "      <td>Singapore Immunology Network: The Singapore Im...</td>\n",
              "      <td>NaN</td>\n",
              "      <td>NaN</td>\n",
              "      <td>NaN</td>\n",
              "      <td>NaN</td>\n",
              "      <td>NaN</td>\n",
              "      <td>NaN</td>\n",
              "      <td>NaN</td>\n",
              "      <td>NaN</td>\n",
              "      <td>...</td>\n",
              "      <td>NaN</td>\n",
              "      <td>NaN</td>\n",
              "      <td>NaN</td>\n",
              "      <td>NaN</td>\n",
              "      <td>NaN</td>\n",
              "      <td>NaN</td>\n",
              "      <td>NaN</td>\n",
              "      <td>NaN</td>\n",
              "      <td>NaN</td>\n",
              "      <td>NaN</td>\n",
              "    </tr>\n",
              "    <tr>\n",
              "      <th>4</th>\n",
              "      <td>47212</td>\n",
              "      <td>Coastal Conservation and Education Foundation ...</td>\n",
              "      <td>NaN</td>\n",
              "      <td>NaN</td>\n",
              "      <td>NaN</td>\n",
              "      <td>NaN</td>\n",
              "      <td>NaN</td>\n",
              "      <td>NaN</td>\n",
              "      <td>NaN</td>\n",
              "      <td>NaN</td>\n",
              "      <td>...</td>\n",
              "      <td>NaN</td>\n",
              "      <td>NaN</td>\n",
              "      <td>NaN</td>\n",
              "      <td>NaN</td>\n",
              "      <td>NaN</td>\n",
              "      <td>NaN</td>\n",
              "      <td>NaN</td>\n",
              "      <td>NaN</td>\n",
              "      <td>NaN</td>\n",
              "      <td>NaN</td>\n",
              "    </tr>\n",
              "  </tbody>\n",
              "</table>\n",
              "<p>5 rows × 29 columns</p>\n",
              "</div>\n",
              "      <button class=\"colab-df-convert\" onclick=\"convertToInteractive('df-88588a4a-1299-4adf-a541-53f31d37d5dd')\"\n",
              "              title=\"Convert this dataframe to an interactive table.\"\n",
              "              style=\"display:none;\">\n",
              "\n",
              "  <svg xmlns=\"http://www.w3.org/2000/svg\" height=\"24px\"viewBox=\"0 0 24 24\"\n",
              "       width=\"24px\">\n",
              "    <path d=\"M0 0h24v24H0V0z\" fill=\"none\"/>\n",
              "    <path d=\"M18.56 5.44l.94 2.06.94-2.06 2.06-.94-2.06-.94-.94-2.06-.94 2.06-2.06.94zm-11 1L8.5 8.5l.94-2.06 2.06-.94-2.06-.94L8.5 2.5l-.94 2.06-2.06.94zm10 10l.94 2.06.94-2.06 2.06-.94-2.06-.94-.94-2.06-.94 2.06-2.06.94z\"/><path d=\"M17.41 7.96l-1.37-1.37c-.4-.4-.92-.59-1.43-.59-.52 0-1.04.2-1.43.59L10.3 9.45l-7.72 7.72c-.78.78-.78 2.05 0 2.83L4 21.41c.39.39.9.59 1.41.59.51 0 1.02-.2 1.41-.59l7.78-7.78 2.81-2.81c.8-.78.8-2.07 0-2.86zM5.41 20L4 18.59l7.72-7.72 1.47 1.35L5.41 20z\"/>\n",
              "  </svg>\n",
              "      </button>\n",
              "\n",
              "\n",
              "\n",
              "    <div id=\"df-14ffcb88-20ae-41f6-bfba-f6ab2279f29a\">\n",
              "      <button class=\"colab-df-quickchart\" onclick=\"quickchart('df-14ffcb88-20ae-41f6-bfba-f6ab2279f29a')\"\n",
              "              title=\"Suggest charts.\"\n",
              "              style=\"display:none;\">\n",
              "\n",
              "<svg xmlns=\"http://www.w3.org/2000/svg\" height=\"24px\"viewBox=\"0 0 24 24\"\n",
              "     width=\"24px\">\n",
              "    <g>\n",
              "        <path d=\"M19 3H5c-1.1 0-2 .9-2 2v14c0 1.1.9 2 2 2h14c1.1 0 2-.9 2-2V5c0-1.1-.9-2-2-2zM9 17H7v-7h2v7zm4 0h-2V7h2v10zm4 0h-2v-4h2v4z\"/>\n",
              "    </g>\n",
              "</svg>\n",
              "      </button>\n",
              "    </div>\n",
              "\n",
              "<style>\n",
              "  .colab-df-quickchart {\n",
              "    background-color: #E8F0FE;\n",
              "    border: none;\n",
              "    border-radius: 50%;\n",
              "    cursor: pointer;\n",
              "    display: none;\n",
              "    fill: #1967D2;\n",
              "    height: 32px;\n",
              "    padding: 0 0 0 0;\n",
              "    width: 32px;\n",
              "  }\n",
              "\n",
              "  .colab-df-quickchart:hover {\n",
              "    background-color: #E2EBFA;\n",
              "    box-shadow: 0px 1px 2px rgba(60, 64, 67, 0.3), 0px 1px 3px 1px rgba(60, 64, 67, 0.15);\n",
              "    fill: #174EA6;\n",
              "  }\n",
              "\n",
              "  [theme=dark] .colab-df-quickchart {\n",
              "    background-color: #3B4455;\n",
              "    fill: #D2E3FC;\n",
              "  }\n",
              "\n",
              "  [theme=dark] .colab-df-quickchart:hover {\n",
              "    background-color: #434B5C;\n",
              "    box-shadow: 0px 1px 3px 1px rgba(0, 0, 0, 0.15);\n",
              "    filter: drop-shadow(0px 1px 2px rgba(0, 0, 0, 0.3));\n",
              "    fill: #FFFFFF;\n",
              "  }\n",
              "</style>\n",
              "\n",
              "    <script>\n",
              "      async function quickchart(key) {\n",
              "        const containerElement = document.querySelector('#' + key);\n",
              "        const charts = await google.colab.kernel.invokeFunction(\n",
              "            'suggestCharts', [key], {});\n",
              "      }\n",
              "    </script>\n",
              "\n",
              "      <script>\n",
              "\n",
              "function displayQuickchartButton(domScope) {\n",
              "  let quickchartButtonEl =\n",
              "    domScope.querySelector('#df-14ffcb88-20ae-41f6-bfba-f6ab2279f29a button.colab-df-quickchart');\n",
              "  quickchartButtonEl.style.display =\n",
              "    google.colab.kernel.accessAllowed ? 'block' : 'none';\n",
              "}\n",
              "\n",
              "        displayQuickchartButton(document);\n",
              "      </script>\n",
              "      <style>\n",
              "    .colab-df-container {\n",
              "      display:flex;\n",
              "      flex-wrap:wrap;\n",
              "      gap: 12px;\n",
              "    }\n",
              "\n",
              "    .colab-df-convert {\n",
              "      background-color: #E8F0FE;\n",
              "      border: none;\n",
              "      border-radius: 50%;\n",
              "      cursor: pointer;\n",
              "      display: none;\n",
              "      fill: #1967D2;\n",
              "      height: 32px;\n",
              "      padding: 0 0 0 0;\n",
              "      width: 32px;\n",
              "    }\n",
              "\n",
              "    .colab-df-convert:hover {\n",
              "      background-color: #E2EBFA;\n",
              "      box-shadow: 0px 1px 2px rgba(60, 64, 67, 0.3), 0px 1px 3px 1px rgba(60, 64, 67, 0.15);\n",
              "      fill: #174EA6;\n",
              "    }\n",
              "\n",
              "    [theme=dark] .colab-df-convert {\n",
              "      background-color: #3B4455;\n",
              "      fill: #D2E3FC;\n",
              "    }\n",
              "\n",
              "    [theme=dark] .colab-df-convert:hover {\n",
              "      background-color: #434B5C;\n",
              "      box-shadow: 0px 1px 3px 1px rgba(0, 0, 0, 0.15);\n",
              "      filter: drop-shadow(0px 1px 2px rgba(0, 0, 0, 0.3));\n",
              "      fill: #FFFFFF;\n",
              "    }\n",
              "  </style>\n",
              "\n",
              "      <script>\n",
              "        const buttonEl =\n",
              "          document.querySelector('#df-88588a4a-1299-4adf-a541-53f31d37d5dd button.colab-df-convert');\n",
              "        buttonEl.style.display =\n",
              "          google.colab.kernel.accessAllowed ? 'block' : 'none';\n",
              "\n",
              "        async function convertToInteractive(key) {\n",
              "          const element = document.querySelector('#df-88588a4a-1299-4adf-a541-53f31d37d5dd');\n",
              "          const dataTable =\n",
              "            await google.colab.kernel.invokeFunction('convertToInteractive',\n",
              "                                                     [key], {});\n",
              "          if (!dataTable) return;\n",
              "\n",
              "          const docLinkHtml = 'Like what you see? Visit the ' +\n",
              "            '<a target=\"_blank\" href=https://colab.research.google.com/notebooks/data_table.ipynb>data table notebook</a>'\n",
              "            + ' to learn more about interactive tables.';\n",
              "          element.innerHTML = '';\n",
              "          dataTable['output_type'] = 'display_data';\n",
              "          await google.colab.output.renderOutput(dataTable, element);\n",
              "          const docLink = document.createElement('div');\n",
              "          docLink.innerHTML = docLinkHtml;\n",
              "          element.appendChild(docLink);\n",
              "        }\n",
              "      </script>\n",
              "    </div>\n",
              "  </div>\n"
            ]
          },
          "metadata": {},
          "execution_count": 315
        }
      ]
    },
    {
      "cell_type": "markdown",
      "source": [
        "## Predict for the submission"
      ],
      "metadata": {
        "id": "zdJAPidXaPmm"
      }
    },
    {
      "cell_type": "code",
      "source": [
        "# create prediction labels\n",
        "submission_pred_probs = model_1.predict(submission_data[\"Text\"].to_numpy())\n",
        "submission_preds = tf.squeeze(tf.round(submission_pred_probs))"
      ],
      "metadata": {
        "colab": {
          "base_uri": "https://localhost:8080/"
        },
        "id": "1WuH6zN0bUqk",
        "outputId": "a7149380-d7f2-4c2f-eea6-ce06ce42f390"
      },
      "execution_count": 316,
      "outputs": [
        {
          "output_type": "stream",
          "name": "stdout",
          "text": [
            "32/32 [==============================] - 5s 170ms/step\n"
          ]
        }
      ]
    },
    {
      "cell_type": "code",
      "source": [
        "# put the predicted labels to the submission_data\n",
        "submission_data.iloc[:, 2:len(submission_data.columns)] = submission_preds"
      ],
      "metadata": {
        "id": "FVsuAEOncSMu"
      },
      "execution_count": 317,
      "outputs": []
    },
    {
      "cell_type": "code",
      "source": [
        "# remove \"Text\" column\n",
        "submission_data = submission_data.drop('Text', axis=1)"
      ],
      "metadata": {
        "id": "cylQpc7Kd_rT"
      },
      "execution_count": 318,
      "outputs": []
    },
    {
      "cell_type": "code",
      "source": [
        "# saving as CSV\n",
        "submission_data.to_csv('submission_completed.csv', index=False, encoding='utf-8')"
      ],
      "metadata": {
        "id": "s_pmtZf5eHTt"
      },
      "execution_count": 319,
      "outputs": []
    },
    {
      "cell_type": "code",
      "source": [
        "# download the submission file\n",
        "from google.colab import files\n",
        "files.download(\"submission_completed.csv\")"
      ],
      "metadata": {
        "colab": {
          "base_uri": "https://localhost:8080/",
          "height": 17
        },
        "id": "wESbdI8xcrOp",
        "outputId": "e6201db6-cc17-4212-a76f-47860f46a4e6"
      },
      "execution_count": 320,
      "outputs": [
        {
          "output_type": "display_data",
          "data": {
            "text/plain": [
              "<IPython.core.display.Javascript object>"
            ],
            "application/javascript": [
              "\n",
              "    async function download(id, filename, size) {\n",
              "      if (!google.colab.kernel.accessAllowed) {\n",
              "        return;\n",
              "      }\n",
              "      const div = document.createElement('div');\n",
              "      const label = document.createElement('label');\n",
              "      label.textContent = `Downloading \"${filename}\": `;\n",
              "      div.appendChild(label);\n",
              "      const progress = document.createElement('progress');\n",
              "      progress.max = size;\n",
              "      div.appendChild(progress);\n",
              "      document.body.appendChild(div);\n",
              "\n",
              "      const buffers = [];\n",
              "      let downloaded = 0;\n",
              "\n",
              "      const channel = await google.colab.kernel.comms.open(id);\n",
              "      // Send a message to notify the kernel that we're ready.\n",
              "      channel.send({})\n",
              "\n",
              "      for await (const message of channel.messages) {\n",
              "        // Send a message to notify the kernel that we're ready.\n",
              "        channel.send({})\n",
              "        if (message.buffers) {\n",
              "          for (const buffer of message.buffers) {\n",
              "            buffers.push(buffer);\n",
              "            downloaded += buffer.byteLength;\n",
              "            progress.value = downloaded;\n",
              "          }\n",
              "        }\n",
              "      }\n",
              "      const blob = new Blob(buffers, {type: 'application/binary'});\n",
              "      const a = document.createElement('a');\n",
              "      a.href = window.URL.createObjectURL(blob);\n",
              "      a.download = filename;\n",
              "      div.appendChild(a);\n",
              "      a.click();\n",
              "      div.remove();\n",
              "    }\n",
              "  "
            ]
          },
          "metadata": {}
        },
        {
          "output_type": "display_data",
          "data": {
            "text/plain": [
              "<IPython.core.display.Javascript object>"
            ],
            "application/javascript": [
              "download(\"download_fad3c306-314d-4961-8527-c01792648970\", \"submission_completed.csv\", 114210)"
            ]
          },
          "metadata": {}
        }
      ]
    }
  ]
}